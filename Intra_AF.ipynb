{
  "cells": [
    {
      "cell_type": "markdown",
      "id": "37ea75b3-37ad-4e99-99d2-04178c491366",
      "metadata": {
        "id": "37ea75b3-37ad-4e99-99d2-04178c491366"
      },
      "source": [
        "# Lezen van de files"
      ]
    },
    {
      "cell_type": "markdown",
      "id": "3c6afa23-2777-430c-a3fb-536fb9a170c7",
      "metadata": {
        "id": "3c6afa23-2777-430c-a3fb-536fb9a170c7"
      },
      "source": [
        "Importeren libraries"
      ]
    },
    {
      "cell_type": "code",
      "execution_count": 12,
      "id": "0db3a75c-8195-40f9-a596-12a6a7f6fdfc",
      "metadata": {
        "id": "0db3a75c-8195-40f9-a596-12a6a7f6fdfc"
      },
      "outputs": [],
      "source": [
        "import h5py\n",
        "import os\n",
        "import numpy as np\n",
        "import random\n"
      ]
    },
    {
      "cell_type": "markdown",
      "id": "1151047a-87c1-4aa6-89f6-317a50691c3f",
      "metadata": {
        "id": "1151047a-87c1-4aa6-89f6-317a50691c3f"
      },
      "source": [
        "Hier 1 class van maken, doet:\n",
        "* lezen van de data\n",
        "* Specificeren van de folder waarvan je de data wil inlezen in folder"
      ]
    },
    {
      "cell_type": "markdown",
      "id": "23dcde49-0ad3-4abb-a708-7c4e91c899a9",
      "metadata": {
        "id": "23dcde49-0ad3-4abb-a708-7c4e91c899a9"
      },
      "source": [
        "## Class voor all preprocess stappen"
      ]
    },
    {
      "cell_type": "markdown",
      "source": [
        "### DATA PREPROCC (niet nodig als je de arrays gebruikt)"
      ],
      "metadata": {
        "id": "uH7ju1yLNOHh"
      },
      "id": "uH7ju1yLNOHh"
    },
    {
      "cell_type": "code",
      "source": [
        "import numpy as np\n",
        "import os\n",
        "import h5py\n",
        "import random\n",
        "\n",
        "class DataLoader:\n",
        "    def __init__(self, base_directory=''):\n",
        "        self.base_directory = base_directory\n",
        "\n",
        "    def get_dataset_name(self, file_name_with_dir):\n",
        "        filename_without_dir = file_name_with_dir.split('/')[-1]\n",
        "        temp = filename_without_dir.split('_')[:-1]\n",
        "        dataset_name = \"_\".join(temp)\n",
        "        return dataset_name\n",
        "\n",
        "    def znorm(self, data):\n",
        "        \"\"\"\n",
        "        Normalizes time-wise\n",
        "        \"\"\"\n",
        "        mean_rows = np.mean(data, axis=1, keepdims=True)\n",
        "        std_rows = np.std(data, axis=1, keepdims=True)\n",
        "        scaled_data = ((data - mean_rows) / std_rows)\n",
        "        return scaled_data\n",
        "\n",
        "    def load_data_from_folder(self, folder, shuffle=True, downsample_factor=2): # downsample factor kan worden aangepast\n",
        "        # systematic sampling of average pooling\n",
        "        data_directory = os.path.join(self.base_directory, folder)\n",
        "        data = []\n",
        "        labels = []\n",
        "\n",
        "        label_mapping = {\n",
        "            'rest': 0,\n",
        "            'task_motor': 1,\n",
        "            'task_story_math': 2,\n",
        "            'task_working_memory': 3\n",
        "        }\n",
        "\n",
        "        file_names = [file_name for file_name in os.listdir(data_directory) if file_name.endswith(\".h5\")]\n",
        "        if shuffle:\n",
        "            random.shuffle(file_names)\n",
        "\n",
        "        for file_name in file_names:\n",
        "            file_path = os.path.join(data_directory, file_name)\n",
        "            with h5py.File(file_path, 'r') as f:\n",
        "                dataset_name = self.get_dataset_name(file_name)\n",
        "                matrix = f.get(dataset_name)[()]\n",
        "\n",
        "                label = None\n",
        "                for task_prefix in label_mapping.keys():\n",
        "                    if task_prefix in file_name:\n",
        "                        label = label_mapping[task_prefix]  # Use the numerical value from label_mapping\n",
        "                        break\n",
        "\n",
        "                if label is not None:\n",
        "                    matrix = self.znorm(matrix)\n",
        "                    matrix = matrix[:, ::downsample_factor] # aanpassen boven >> systematic sampling\n",
        "\n",
        "                    data.append(matrix)\n",
        "                    labels.append(label)  # Append the label directly\n",
        "                else:\n",
        "                    print(f\"Warning: No label found for file {file_name}\")\n",
        "\n",
        "        return np.array(data), np.array(labels)\n",
        "\n",
        "# Example usage\n",
        "data_loader = DataLoader()\n"
      ],
      "metadata": {
        "id": "nCB0ZziwNQ8g"
      },
      "id": "nCB0ZziwNQ8g",
      "execution_count": null,
      "outputs": []
    },
    {
      "cell_type": "markdown",
      "source": [
        "#### cross"
      ],
      "metadata": {
        "id": "nEYRacjKNY7M"
      },
      "id": "nEYRacjKNY7M"
    },
    {
      "cell_type": "code",
      "source": [
        "# CROSS\n",
        "\n",
        "# Load data and labels for each subset\n",
        "data_train1, labels_train1 = data_loader.load_data_from_folder('Final_Project_data/Cross/train')\n",
        "data_test1, labels_test1 = data_loader.load_data_from_folder('Final_Project_data/Cross/test1')\n",
        "data_test2, labels_test2 = data_loader.load_data_from_folder('Final_Project_data/Cross/test2')\n",
        "data_test3, labels_test3 = data_loader.load_data_from_folder('Final_Project_data/Cross/test3')\n",
        "\n",
        "# Print shapes of loaded data\n",
        "print(f\"Train Data Shape: {data_train1.shape}, Train Labels Shape: {labels_train1.shape}\")\n",
        "print(f\"Test1 Data Shape: {data_test1.shape}, Test1 Labels Shape: {labels_test1.shape}\")\n",
        "print(f\"Test2 Data Shape: {data_test2.shape}, Test2 Labels Shape: {labels_test2.shape}\")\n",
        "print(f\"Test3 Data Shape: {data_test3.shape}, Test3 Labels Shape: {labels_test3.shape}\")"
      ],
      "metadata": {
        "id": "W0RELdufNYVc"
      },
      "id": "W0RELdufNYVc",
      "execution_count": null,
      "outputs": []
    },
    {
      "cell_type": "markdown",
      "source": [
        "#### intra"
      ],
      "metadata": {
        "id": "YI5ThPs1Nal9"
      },
      "id": "YI5ThPs1Nal9"
    },
    {
      "cell_type": "code",
      "source": [
        "# intra train\n",
        "\n",
        "# Load the preprocessed data and labels\n",
        "data_train, labels_train = data_loader.load_data_from_folder('Final_Project_data/Intra/train')\n",
        "\n",
        "# Print shapes of loaded data\n",
        "print(f\"Data Shape train: {data_train.shape}\")\n",
        "print(f\"Labels Shape train: {labels_train.shape}\")\n",
        "\n",
        "## Test intra\n",
        "# Load the preprocessed data and labels\n",
        "data_test, labels_test = data_loader.load_data_from_folder('Final_Project_data/Intra/test')\n",
        "\n",
        "# Print shapes of loaded data\n",
        "print(f\"Data Shape test: {data_test.shape}\")\n",
        "print(f\"Labels Shape test: {labels_test.shape}\")"
      ],
      "metadata": {
        "id": "9zp-rzQYNbvr"
      },
      "id": "9zp-rzQYNbvr",
      "execution_count": null,
      "outputs": []
    },
    {
      "cell_type": "markdown",
      "source": [
        "#### rest"
      ],
      "metadata": {
        "id": "4ki7EO3ANeec"
      },
      "id": "4ki7EO3ANeec"
    },
    {
      "cell_type": "code",
      "source": [
        "from tensorflow.keras.utils import to_categorical\n",
        "# reshapen zodat het in de vorm: [nr samples, time steps, features] is, voor LSTM\n",
        "X_train = data_train\n",
        "X_test = data_test\n",
        "y_train = labels_train\n",
        "y_test = labels_test\n",
        "# Assuming y_train and y_test are currently integer labels\n",
        "y_train_encoded = to_categorical(y_train, num_classes=4)\n",
        "y_test_encoded = to_categorical(y_test, num_classes=4)\n",
        "\n",
        "X_train = X_train.reshape((X_train.shape[0], X_train.shape[2], X_train.shape[1]))\n",
        "X_test = X_test.reshape((X_test.shape[0], X_test.shape[2], X_test.shape[1]))"
      ],
      "metadata": {
        "id": "4xSaVBsUNdjQ"
      },
      "id": "4xSaVBsUNdjQ",
      "execution_count": null,
      "outputs": []
    },
    {
      "cell_type": "markdown",
      "id": "051ad1c1-69b1-43c1-9130-06d383e1ab01",
      "metadata": {
        "id": "051ad1c1-69b1-43c1-9130-06d383e1ab01"
      },
      "source": [
        "### Inlezen INTRA\n"
      ]
    },
    {
      "cell_type": "code",
      "source": [
        "# Inladen voor INTRA\n",
        "from google.colab import drive\n",
        "drive.mount('/content/drive')"
      ],
      "metadata": {
        "colab": {
          "base_uri": "https://localhost:8080/"
        },
        "id": "sTCQkuEzvmYP",
        "outputId": "de6aa159-339c-434d-d17b-620944fabfac"
      },
      "id": "sTCQkuEzvmYP",
      "execution_count": 13,
      "outputs": [
        {
          "output_type": "stream",
          "name": "stdout",
          "text": [
            "Drive already mounted at /content/drive; to attempt to forcibly remount, call drive.mount(\"/content/drive\", force_remount=True).\n"
          ]
        }
      ]
    },
    {
      "cell_type": "code",
      "source": [
        "X_test = np.load('/content/drive/MyDrive/arrays/X_test.npy')\n",
        "X_train = np.load('/content/drive/MyDrive/arrays/X_train.npy')\n",
        "\n",
        "y_test = np.load('/content/drive/MyDrive/arrays/y_test.npy')\n",
        "y_train  = np.load('/content/drive/MyDrive/arrays/y_train.npy')"
      ],
      "metadata": {
        "id": "a7DQQDofvuwD"
      },
      "id": "a7DQQDofvuwD",
      "execution_count": 14,
      "outputs": []
    },
    {
      "cell_type": "code",
      "source": [
        "from tensorflow.keras.utils import to_categorical\n",
        "\n",
        "y_train_encoded = to_categorical(y_train, num_classes=4)\n",
        "y_test_encoded = to_categorical(y_test, num_classes=4)"
      ],
      "metadata": {
        "id": "njkIogf71b7v"
      },
      "id": "njkIogf71b7v",
      "execution_count": 15,
      "outputs": []
    },
    {
      "cell_type": "code",
      "source": [
        "import tensorflow as tf\n",
        "tf.test.gpu_device_name()"
      ],
      "metadata": {
        "colab": {
          "base_uri": "https://localhost:8080/",
          "height": 35
        },
        "id": "X6CPCCHh28r1",
        "outputId": "91c13dd4-e7c8-4105-9300-259fa5e8c949"
      },
      "id": "X6CPCCHh28r1",
      "execution_count": 16,
      "outputs": [
        {
          "output_type": "execute_result",
          "data": {
            "text/plain": [
              "'/device:GPU:0'"
            ],
            "application/vnd.google.colaboratory.intrinsic+json": {
              "type": "string"
            }
          },
          "metadata": {},
          "execution_count": 16
        }
      ]
    },
    {
      "cell_type": "markdown",
      "id": "4d081997-15fd-4f3b-8ab6-e298629299aa",
      "metadata": {
        "id": "4d081997-15fd-4f3b-8ab6-e298629299aa"
      },
      "source": [
        "### Trainen + Maken van het model (intra)"
      ]
    },
    {
      "cell_type": "markdown",
      "source": [],
      "metadata": {
        "id": "6Xw08whbOQUQ"
      },
      "id": "6Xw08whbOQUQ"
    },
    {
      "cell_type": "code",
      "source": [
        "# Evaluate the model on a test set (assuming X_test and y_test)\n",
        "loss, accuracy = stacked_lstm_model.evaluate(X_test, y_test_encoded)\n",
        "print(f'Test Loss: {loss:.4f}, Test Accuracy: {accuracy:.4f}')"
      ],
      "metadata": {
        "colab": {
          "base_uri": "https://localhost:8080/"
        },
        "id": "gmU08RHjQMFZ",
        "outputId": "fda52b6a-9491-43f8-d3ad-5a847033285a"
      },
      "id": "gmU08RHjQMFZ",
      "execution_count": null,
      "outputs": [
        {
          "output_type": "stream",
          "name": "stdout",
          "text": [
            "1/1 [==============================] - 1s 702ms/step - loss: 1.6126 - accuracy: 0.2500\n",
            "Test Loss: 1.6126, Test Accuracy: 0.2500\n"
          ]
        }
      ]
    },
    {
      "cell_type": "markdown",
      "id": "d020780b",
      "metadata": {
        "id": "d020780b"
      },
      "source": [
        "### LSTM met hyperparametertuning"
      ]
    },
    {
      "cell_type": "code",
      "source": [
        "!pip3 install keras-tuner\n"
      ],
      "metadata": {
        "colab": {
          "base_uri": "https://localhost:8080/"
        },
        "id": "tvRQSConxdvO",
        "outputId": "c6827f34-71ec-4cb0-8db7-8286ad45f3c0"
      },
      "id": "tvRQSConxdvO",
      "execution_count": 6,
      "outputs": [
        {
          "output_type": "stream",
          "name": "stdout",
          "text": [
            "Collecting keras-tuner\n",
            "  Downloading keras_tuner-1.4.6-py3-none-any.whl (128 kB)\n",
            "\u001b[2K     \u001b[90m━━━━━━━━━━━━━━━━━━━━━━━━━━━━━━━━━━━━━━━━\u001b[0m \u001b[32m128.9/128.9 kB\u001b[0m \u001b[31m975.7 kB/s\u001b[0m eta \u001b[36m0:00:00\u001b[0m\n",
            "\u001b[?25hRequirement already satisfied: keras in /usr/local/lib/python3.10/dist-packages (from keras-tuner) (2.15.0)\n",
            "Requirement already satisfied: packaging in /usr/local/lib/python3.10/dist-packages (from keras-tuner) (23.2)\n",
            "Requirement already satisfied: requests in /usr/local/lib/python3.10/dist-packages (from keras-tuner) (2.31.0)\n",
            "Collecting kt-legacy (from keras-tuner)\n",
            "  Downloading kt_legacy-1.0.5-py3-none-any.whl (9.6 kB)\n",
            "Requirement already satisfied: charset-normalizer<4,>=2 in /usr/local/lib/python3.10/dist-packages (from requests->keras-tuner) (3.3.2)\n",
            "Requirement already satisfied: idna<4,>=2.5 in /usr/local/lib/python3.10/dist-packages (from requests->keras-tuner) (3.6)\n",
            "Requirement already satisfied: urllib3<3,>=1.21.1 in /usr/local/lib/python3.10/dist-packages (from requests->keras-tuner) (2.0.7)\n",
            "Requirement already satisfied: certifi>=2017.4.17 in /usr/local/lib/python3.10/dist-packages (from requests->keras-tuner) (2023.11.17)\n",
            "Installing collected packages: kt-legacy, keras-tuner\n",
            "Successfully installed keras-tuner-1.4.6 kt-legacy-1.0.5\n"
          ]
        }
      ]
    },
    {
      "cell_type": "code",
      "source": [
        "y_train_encoded.shape"
      ],
      "metadata": {
        "colab": {
          "base_uri": "https://localhost:8080/"
        },
        "id": "2Bs2SliL_EbR",
        "outputId": "f3d44c38-fe3c-4525-b42d-3dd6d67f6185"
      },
      "id": "2Bs2SliL_EbR",
      "execution_count": null,
      "outputs": [
        {
          "output_type": "execute_result",
          "data": {
            "text/plain": [
              "(32, 4)"
            ]
          },
          "metadata": {},
          "execution_count": 14
        }
      ]
    },
    {
      "cell_type": "code",
      "execution_count": 29,
      "id": "8ba38762",
      "metadata": {
        "colab": {
          "base_uri": "https://localhost:8080/"
        },
        "id": "8ba38762",
        "outputId": "556d9252-6144-41a2-80f4-4a4bd225e9df"
      },
      "outputs": [
        {
          "output_type": "stream",
          "name": "stdout",
          "text": [
            "Reloading Tuner from ./hparam_tuning/tuner0.json\n",
            "Search space summary\n",
            "Default search space size: 12\n",
            "num_lstm_layers (Int)\n",
            "{'default': None, 'conditions': [], 'min_value': 1, 'max_value': 4, 'step': 1, 'sampling': 'linear'}\n",
            "units_0 (Choice)\n",
            "{'default': 16, 'conditions': [], 'values': [16, 32, 64, 128], 'ordered': True}\n",
            "lstm_dropout_ (Choice)\n",
            "{'default': 0.1, 'conditions': [], 'values': [0.1, 0.2, 0.3, 0.4, 0.5], 'ordered': True}\n",
            "num_dense_layers (Int)\n",
            "{'default': None, 'conditions': [], 'min_value': 1, 'max_value': 4, 'step': 1, 'sampling': 'linear'}\n",
            "dense_units_0 (Choice)\n",
            "{'default': 16, 'conditions': [], 'values': [16, 32, 64, 128], 'ordered': True}\n",
            "learning_rate (Choice)\n",
            "{'default': 0.01, 'conditions': [], 'values': [0.01, 0.001, 0.0001], 'ordered': True}\n",
            "units_1 (Choice)\n",
            "{'default': 16, 'conditions': [], 'values': [16, 32, 64, 128], 'ordered': True}\n",
            "dense_units_1 (Choice)\n",
            "{'default': 16, 'conditions': [], 'values': [16, 32, 64, 128], 'ordered': True}\n",
            "dense_units_2 (Choice)\n",
            "{'default': 16, 'conditions': [], 'values': [16, 32, 64, 128], 'ordered': True}\n",
            "dense_units_3 (Choice)\n",
            "{'default': 16, 'conditions': [], 'values': [16, 32, 64, 128], 'ordered': True}\n",
            "units_2 (Choice)\n",
            "{'default': 16, 'conditions': [], 'values': [16, 32, 64, 128], 'ordered': True}\n",
            "units_3 (Choice)\n",
            "{'default': 16, 'conditions': [], 'values': [16, 32, 64, 128], 'ordered': True}\n"
          ]
        }
      ],
      "source": [
        "import tensorflow as tf\n",
        "from tensorflow.keras.models import Sequential\n",
        "from tensorflow.keras.layers import LSTM, Dense\n",
        "from kerastuner.tuners import RandomSearch\n",
        "from tensorflow.keras.callbacks import EarlyStopping\n",
        "\n",
        "def build_model_storedParams(loaded_hyperparameters): # dit is de versie die met json params verder gaat\n",
        "    model = Sequential()\n",
        "\n",
        "    # Adding LSTM layers as per loaded hyperparameters\n",
        "    for i in range(loaded_hyperparameters['num_lstm_layers']):\n",
        "        model.add(LSTM(\n",
        "            units=loaded_hyperparameters[f'units_{i}'],\n",
        "            return_sequences=i < loaded_hyperparameters['num_lstm_layers'] - 1,\n",
        "            input_shape=(X_train.shape[1], X_train.shape[2]),\n",
        "            dropout=loaded_hyperparameters.get('lstm_dropout_', 0)))\n",
        "\n",
        "    # Adding Dense layers as per loaded hyperparameters\n",
        "    for i in range(loaded_hyperparameters['num_dense_layers']):\n",
        "        model.add(Dense(\n",
        "            units=loaded_hyperparameters[f'dense_units_{i}'],\n",
        "            activation='relu'))\n",
        "\n",
        "    model.add(Dense(4, activation='softmax'))  # 4 classes\n",
        "\n",
        "    model.compile(\n",
        "        optimizer=tf.keras.optimizers.Adam(loaded_hyperparameters['learning_rate']),\n",
        "        loss='categorical_crossentropy',\n",
        "        metrics=['accuracy']\n",
        "    )\n",
        "    return model\n",
        "\n",
        "\n",
        "def build_model(hp):\n",
        "    model = Sequential()\n",
        "\n",
        "    # Tuning the number of LSTM layers and their units\n",
        "    for i in range(hp.Int('num_lstm_layers', 1, 4)):\n",
        "        model.add(LSTM(\n",
        "            units=hp.Choice('units_' + str(i), values=[16, 32, 64, 128]), #values=[16, 32, 64, 128]\n",
        "            return_sequences=i < hp.get('num_lstm_layers') - 1,  # Only the last layer should not return sequences\n",
        "            input_shape=(X_train.shape[1], X_train.shape[2]),\n",
        "            dropout=hp.Choice('lstm_dropout_', values=[0.1, 0.2, 0.3, 0.4, 0.5])))\n",
        "\n",
        "    # Tuning the number of Dense layers and their units\n",
        "    for i in range(hp.Int('num_dense_layers', 1, 4)):\n",
        "        model.add(Dense(\n",
        "            units=hp.Choice('dense_units_' + str(i), values=[16, 32, 64, 128]), #values=[16, 32, 64, 128]\n",
        "            activation='relu'))\n",
        "\n",
        "    model.add(Dense(4, activation='softmax'))  # 4 classes\n",
        "\n",
        "    model.compile(\n",
        "        optimizer=tf.keras.optimizers.Adam(\n",
        "            hp.Choice('learning_rate', values=[1e-2, 1e-3, 1e-4])), #values=[1e-2, 1e-3, 1e-4]\n",
        "        loss='categorical_crossentropy',\n",
        "        metrics=['accuracy']\n",
        "    )\n",
        "    return model\n",
        "\n",
        "tuner = RandomSearch(\n",
        "    build_model,\n",
        "    objective='val_accuracy',\n",
        "    max_trials=10,\n",
        "    executions_per_trial=3,\n",
        "    directory='./',\n",
        "    project_name='hparam_tuning'\n",
        ")\n",
        "\n",
        "tuner.search_space_summary()\n",
        "\n",
        "# Start the hyperparameter tuning\n",
        "tuner.search(X_train, y_train_encoded, epochs=10, batch_size=8, validation_data=(X_test, y_test_encoded))\n",
        "# epochs + batch size voor nu constant (behalve epochs bij fitten van model)\n",
        "\n",
        "# Get the optimal hyperparameters\n",
        "best_hps = tuner.get_best_hyperparameters(num_trials=1)[0]\n",
        "\n"
      ]
    },
    {
      "cell_type": "code",
      "source": [
        "# voor normale getuned params\n",
        "print(f\"\"\"\n",
        "The hyperparameter search is complete.\n",
        "The optimal number of LSTM and Dense layers and their units can be reviewed in the best hyperparameters.\n",
        "\"\"\")\n",
        "\n",
        "## Early stopping om te kijken of het effect heeft om het aantal epochs te verhogen\n",
        "# Early stopping callback\n",
        "early_stopping_callback = EarlyStopping(monitor='val_loss', patience=5, restore_best_weights=True)\n",
        "\n",
        "# Increase the number of epochs as needed\n",
        "epochs = 50\n",
        "# Build the model with the optimal hyperparameters and train it\n",
        "\n",
        "model = tuner.hypermodel.build(best_hps) ### HIER SWITCHEN NAAR BESTE HYPER PARAMETERS OF INLADEN VIA JSON loaded_hyperparameters\n",
        "\n",
        "#model.fit(X_train, y_train, epochs=10, batch_size=64, validation_data=(X_test, y_test)) # epochs aanpassen voor snelheid\n",
        "# deze was redelijk:\n",
        "#model.fit(X_train, y_train_encoded, epochs=10, batch_size=32, validation_data=(X_test, y_test_encoded)) # kleinere batch size kan miss helpen? sotnd eerst op 64\n",
        "\n",
        "model.fit(X_train, y_train_encoded, epochs=epochs, batch_size=8, validation_data=(X_test, y_test_encoded), callbacks=[early_stopping_callback])\n",
        "\n",
        "# beste model als callback opslaan met .h5 of best params opslaan als file"
      ],
      "metadata": {
        "colab": {
          "base_uri": "https://localhost:8080/"
        },
        "id": "sFFmRBjk-Kqe",
        "outputId": "7d563348-7bc8-484a-9b68-83c636dd9a27"
      },
      "id": "sFFmRBjk-Kqe",
      "execution_count": 25,
      "outputs": [
        {
          "output_type": "stream",
          "name": "stdout",
          "text": [
            "\n",
            "The hyperparameter search is complete.\n",
            "The optimal number of LSTM and Dense layers and their units can be reviewed in the best hyperparameters.\n",
            "\n",
            "Epoch 1/50\n",
            "4/4 [==============================] - 23s 4s/step - loss: 1.4231 - accuracy: 0.1562 - val_loss: 1.3724 - val_accuracy: 0.2500\n",
            "Epoch 2/50\n",
            "4/4 [==============================] - 10s 3s/step - loss: 1.4345 - accuracy: 0.1250 - val_loss: 1.3828 - val_accuracy: 0.2500\n",
            "Epoch 3/50\n",
            "4/4 [==============================] - 10s 3s/step - loss: 1.4053 - accuracy: 0.2188 - val_loss: 1.3713 - val_accuracy: 0.2500\n",
            "Epoch 4/50\n",
            "4/4 [==============================] - 7s 2s/step - loss: 1.3940 - accuracy: 0.2188 - val_loss: 1.3809 - val_accuracy: 0.2500\n",
            "Epoch 5/50\n",
            "4/4 [==============================] - 9s 2s/step - loss: 1.3944 - accuracy: 0.2188 - val_loss: 1.3867 - val_accuracy: 0.2500\n",
            "Epoch 6/50\n",
            "4/4 [==============================] - 7s 2s/step - loss: 1.3865 - accuracy: 0.1875 - val_loss: 1.3864 - val_accuracy: 0.2500\n",
            "Epoch 7/50\n",
            "4/4 [==============================] - 8s 2s/step - loss: 1.3868 - accuracy: 0.1875 - val_loss: 1.3845 - val_accuracy: 0.2500\n",
            "Epoch 8/50\n",
            "4/4 [==============================] - 7s 2s/step - loss: 1.3851 - accuracy: 0.2812 - val_loss: 1.3846 - val_accuracy: 0.2500\n"
          ]
        },
        {
          "output_type": "execute_result",
          "data": {
            "text/plain": [
              "<keras.src.callbacks.History at 0x7c42890a9540>"
            ]
          },
          "metadata": {},
          "execution_count": 25
        }
      ]
    },
    {
      "cell_type": "markdown",
      "source": [
        "### Save / Store hyper params"
      ],
      "metadata": {
        "id": "-yNxswr8-s6H"
      },
      "id": "-yNxswr8-s6H"
    },
    {
      "cell_type": "code",
      "source": [
        "## To see the best hyper params + valuesL:\n",
        "print(\"Best Hyperparameters:\")\n",
        "for hyperparam in best_hps.values:\n",
        "    print(f\"{hyperparam}: {best_hps.get(hyperparam)}\")\n"
      ],
      "metadata": {
        "colab": {
          "base_uri": "https://localhost:8080/"
        },
        "id": "iNFzrYiw9Uy_",
        "outputId": "f6316050-a1ee-4338-f8c0-022399b67647"
      },
      "id": "iNFzrYiw9Uy_",
      "execution_count": 18,
      "outputs": [
        {
          "output_type": "stream",
          "name": "stdout",
          "text": [
            "Best Hyperparameters:\n",
            "num_lstm_layers: 4\n",
            "units_0: 32\n",
            "lstm_dropout_: 0.4\n",
            "num_dense_layers: 1\n",
            "dense_units_0: 16\n",
            "learning_rate: 0.01\n",
            "units_1: 32\n",
            "dense_units_1: 128\n",
            "dense_units_2: 128\n",
            "dense_units_3: 128\n",
            "units_2: 32\n",
            "units_3: 16\n"
          ]
        }
      ]
    },
    {
      "cell_type": "code",
      "source": [
        "# ALLEEN OPSLAAN ALS NODUIG\n",
        "# save hyper params in file (als hoge accuracy)\n",
        "import json\n",
        "\n",
        "# Write the dictionary to a JSON file\n",
        "with open('best_hyperparameters.json', 'w') as file:\n",
        "    json.dump(best_hps, file)"
      ],
      "metadata": {
        "id": "JqI_QyzC9Jr3"
      },
      "id": "JqI_QyzC9Jr3",
      "execution_count": 20,
      "outputs": []
    },
    {
      "cell_type": "code",
      "source": [
        "# Load best hyper params:\n",
        "# Read the hyperparameters from the JSON file\n",
        "with open('best_hyperparameters.json', 'r') as file:\n",
        "    loaded_hyperparameters = json.load(file)\n",
        "\n",
        "# Now `loaded_hyperparameters` contains the hyperparameters\n"
      ],
      "metadata": {
        "id": "TF7OqjK591kd"
      },
      "id": "TF7OqjK591kd",
      "execution_count": 21,
      "outputs": []
    },
    {
      "cell_type": "code",
      "source": [
        "loaded_hyperparameters\n",
        "\"\"\"\n",
        "{'num_lstm_layers': 2,\n",
        " 'units_0': 16,\n",
        " 'lstm_dropout_': 0.3,\n",
        " 'num_dense_layers': 3,\n",
        " 'dense_units_0': 32,\n",
        " 'learning_rate': 0.001,\n",
        " 'units_1': 64,\n",
        " 'units_2': 16,\n",
        " 'dense_units_1': 16,\n",
        " 'units_3': 32,\n",
        " 'dense_units_2': 128,\n",
        " 'dense_units_3': 16}\n",
        " \"\"\""
      ],
      "metadata": {
        "colab": {
          "base_uri": "https://localhost:8080/"
        },
        "id": "aPsJz5fRM5DF",
        "outputId": "bd546848-edf6-439e-a616-bd63af3e833d"
      },
      "id": "aPsJz5fRM5DF",
      "execution_count": 34,
      "outputs": [
        {
          "output_type": "execute_result",
          "data": {
            "text/plain": [
              "{'num_lstm_layers': 2,\n",
              " 'units_0': 16,\n",
              " 'lstm_dropout_': 0.3,\n",
              " 'num_dense_layers': 3,\n",
              " 'dense_units_0': 32,\n",
              " 'learning_rate': 0.001,\n",
              " 'units_1': 64,\n",
              " 'units_2': 16,\n",
              " 'dense_units_1': 16,\n",
              " 'units_3': 32,\n",
              " 'dense_units_2': 128,\n",
              " 'dense_units_3': 16}"
            ]
          },
          "metadata": {},
          "execution_count": 34
        }
      ]
    },
    {
      "cell_type": "code",
      "source": [
        "# model draaien op json hyper params (opgeslagen)\n",
        "model = build_model_storedParams(loaded_hyperparameters)\n",
        "\n",
        "epochs = 50  # or any other number of epochs you want\n",
        "batch_size = 8  # or any other batch size you want\n",
        "\n",
        "# Early stopping callback\n",
        "early_stopping_callback = tf.keras.callbacks.EarlyStopping(monitor='val_loss', patience=5, restore_best_weights=True)\n",
        "\n",
        "# Fit the model\n",
        "history = model.fit(\n",
        "    X_train, y_train_encoded,\n",
        "    epochs=epochs,\n",
        "    batch_size=batch_size,\n",
        "    validation_data=(X_test, y_test_encoded),\n",
        "    callbacks=[early_stopping_callback]\n",
        ")\n"
      ],
      "metadata": {
        "colab": {
          "base_uri": "https://localhost:8080/"
        },
        "id": "dWmv6lTr_uPp",
        "outputId": "51ca82aa-8761-4b62-849f-16ec90dbb06f"
      },
      "id": "dWmv6lTr_uPp",
      "execution_count": 31,
      "outputs": [
        {
          "output_type": "stream",
          "name": "stdout",
          "text": [
            "Epoch 1/50\n",
            "4/4 [==============================] - 11s 1s/step - loss: 1.3973 - accuracy: 0.1562 - val_loss: 1.3907 - val_accuracy: 0.3750\n",
            "Epoch 2/50\n",
            "4/4 [==============================] - 4s 1s/step - loss: 1.3904 - accuracy: 0.1250 - val_loss: 1.3756 - val_accuracy: 0.2500\n",
            "Epoch 3/50\n",
            "4/4 [==============================] - 5s 1s/step - loss: 1.3832 - accuracy: 0.2812 - val_loss: 1.3725 - val_accuracy: 0.3750\n",
            "Epoch 4/50\n",
            "4/4 [==============================] - 4s 1s/step - loss: 1.3826 - accuracy: 0.3125 - val_loss: 1.3709 - val_accuracy: 0.6250\n",
            "Epoch 5/50\n",
            "4/4 [==============================] - 4s 1s/step - loss: 1.3817 - accuracy: 0.2812 - val_loss: 1.3722 - val_accuracy: 0.2500\n",
            "Epoch 6/50\n",
            "4/4 [==============================] - 6s 2s/step - loss: 1.3763 - accuracy: 0.3438 - val_loss: 1.3674 - val_accuracy: 0.2500\n",
            "Epoch 7/50\n",
            "4/4 [==============================] - 4s 995ms/step - loss: 1.3760 - accuracy: 0.4375 - val_loss: 1.3663 - val_accuracy: 0.6250\n",
            "Epoch 8/50\n",
            "4/4 [==============================] - 4s 1s/step - loss: 1.3798 - accuracy: 0.3125 - val_loss: 1.3653 - val_accuracy: 0.5000\n",
            "Epoch 9/50\n",
            "4/4 [==============================] - 5s 1s/step - loss: 1.3728 - accuracy: 0.3125 - val_loss: 1.3578 - val_accuracy: 0.7500\n",
            "Epoch 10/50\n",
            "4/4 [==============================] - 4s 1s/step - loss: 1.3738 - accuracy: 0.3125 - val_loss: 1.3329 - val_accuracy: 0.3750\n",
            "Epoch 11/50\n",
            "4/4 [==============================] - 4s 999ms/step - loss: 1.3704 - accuracy: 0.2188 - val_loss: 1.3635 - val_accuracy: 0.6250\n",
            "Epoch 12/50\n",
            "4/4 [==============================] - 4s 948ms/step - loss: 1.3601 - accuracy: 0.3438 - val_loss: 1.3258 - val_accuracy: 0.6250\n",
            "Epoch 13/50\n",
            "4/4 [==============================] - 5s 1s/step - loss: 1.3597 - accuracy: 0.3125 - val_loss: 1.3205 - val_accuracy: 0.6250\n",
            "Epoch 14/50\n",
            "4/4 [==============================] - 4s 950ms/step - loss: 1.3449 - accuracy: 0.4062 - val_loss: 1.3152 - val_accuracy: 0.3750\n",
            "Epoch 15/50\n",
            "4/4 [==============================] - 4s 998ms/step - loss: 1.3395 - accuracy: 0.3125 - val_loss: 1.3298 - val_accuracy: 0.3750\n",
            "Epoch 16/50\n",
            "4/4 [==============================] - 5s 1s/step - loss: 1.3136 - accuracy: 0.3750 - val_loss: 1.3617 - val_accuracy: 0.2500\n",
            "Epoch 17/50\n",
            "4/4 [==============================] - 4s 1s/step - loss: 1.3088 - accuracy: 0.4062 - val_loss: 1.3683 - val_accuracy: 0.1250\n",
            "Epoch 18/50\n",
            "4/4 [==============================] - 4s 1s/step - loss: 1.3447 - accuracy: 0.3438 - val_loss: 1.3994 - val_accuracy: 0.3750\n",
            "Epoch 19/50\n",
            "4/4 [==============================] - 4s 949ms/step - loss: 1.3025 - accuracy: 0.3750 - val_loss: 1.2471 - val_accuracy: 0.6250\n",
            "Epoch 20/50\n",
            "4/4 [==============================] - 6s 2s/step - loss: 1.2814 - accuracy: 0.4062 - val_loss: 1.2586 - val_accuracy: 0.3750\n",
            "Epoch 21/50\n",
            "4/4 [==============================] - 4s 1s/step - loss: 1.2192 - accuracy: 0.5625 - val_loss: 1.2056 - val_accuracy: 0.7500\n",
            "Epoch 22/50\n",
            "4/4 [==============================] - 4s 1s/step - loss: 1.2114 - accuracy: 0.4062 - val_loss: 1.2982 - val_accuracy: 0.3750\n",
            "Epoch 23/50\n",
            "4/4 [==============================] - 8s 3s/step - loss: 1.1541 - accuracy: 0.5312 - val_loss: 1.3553 - val_accuracy: 0.3750\n",
            "Epoch 24/50\n",
            "4/4 [==============================] - 7s 1s/step - loss: 1.2193 - accuracy: 0.5000 - val_loss: 1.5091 - val_accuracy: 0.3750\n",
            "Epoch 25/50\n",
            "4/4 [==============================] - 5s 1s/step - loss: 1.1126 - accuracy: 0.5000 - val_loss: 1.5847 - val_accuracy: 0.3750\n",
            "Epoch 26/50\n",
            "4/4 [==============================] - 6s 2s/step - loss: 1.1450 - accuracy: 0.5938 - val_loss: 1.5454 - val_accuracy: 0.3750\n"
          ]
        }
      ]
    },
    {
      "cell_type": "code",
      "source": [
        "from sklearn.metrics import confusion_matrix, classification_report\n",
        "import seaborn as sns\n",
        "import matplotlib.pyplot as plt\n",
        "\n",
        "# Predictions\n",
        "y_pred = model.predict(X_test)\n",
        "y_pred_classes = np.argmax(y_pred, axis=1)\n",
        "\n",
        "# Confusion Matrix\n",
        "cm = confusion_matrix(np.argmax(y_test_encoded, axis=1), y_pred_classes)\n",
        "sns.heatmap(cm, annot=True, fmt='d')\n",
        "plt.ylabel('Actual')\n",
        "plt.xlabel('Predicted')\n",
        "plt.title('Confusion Matrix')\n",
        "plt.show()\n",
        "\n",
        "# Classification Report for additional metrics\n",
        "print(classification_report(np.argmax(y_test_encoded, axis=1), y_pred_classes))\n"
      ],
      "metadata": {
        "colab": {
          "base_uri": "https://localhost:8080/",
          "height": 680
        },
        "id": "VRhJ3H7u9VHE",
        "outputId": "aa186570-6582-4212-9214-2ff8cf17adab"
      },
      "id": "VRhJ3H7u9VHE",
      "execution_count": 32,
      "outputs": [
        {
          "output_type": "stream",
          "name": "stdout",
          "text": [
            "1/1 [==============================] - 1s 1s/step\n"
          ]
        },
        {
          "output_type": "display_data",
          "data": {
            "text/plain": [
              "<Figure size 640x480 with 2 Axes>"
            ],
            "image/png": "[encoded data removed]"
          },
          "metadata": {}
        },
        {
          "output_type": "stream",
          "name": "stdout",
          "text": [
            "              precision    recall  f1-score   support\n",
            "\n",
            "           0       1.00      0.50      0.67         2\n",
            "           1       0.67      1.00      0.80         2\n",
            "           2       0.67      1.00      0.80         2\n",
            "           3       1.00      0.50      0.67         2\n",
            "\n",
            "    accuracy                           0.75         8\n",
            "   macro avg       0.83      0.75      0.73         8\n",
            "weighted avg       0.83      0.75      0.73         8\n",
            "\n"
          ]
        }
      ]
    },
    {
      "cell_type": "code",
      "execution_count": 33,
      "id": "0cccfe8b-28c5-471e-96f4-2a578484fd50",
      "metadata": {
        "id": "0cccfe8b-28c5-471e-96f4-2a578484fd50",
        "outputId": "1a095b90-c33e-4c2a-d4fe-0ddfc4ab5611",
        "colab": {
          "base_uri": "https://localhost:8080/"
        }
      },
      "outputs": [
        {
          "output_type": "stream",
          "name": "stdout",
          "text": [
            "1/1 [==============================] - 2s 2s/step - loss: 1.1673 - accuracy: 0.5000\n",
            "Training Accuracy: 50.00%\n",
            "1/1 [==============================] - 0s 483ms/step - loss: 1.2056 - accuracy: 0.7500\n",
            "Test Accuracy: 75.00%\n"
          ]
        }
      ],
      "source": [
        "# Evaluating the model on the training data\n",
        "train_loss, train_accuracy = model.evaluate(X_train, y_train_encoded)\n",
        "print(f\"Training Accuracy: {train_accuracy*100:.2f}%\")\n",
        "\n",
        "# Evaluating the model on the test data\n",
        "test_loss, test_accuracy = model.evaluate(X_test, y_test_encoded)\n",
        "print(f\"Test Accuracy: {test_accuracy*100:.2f}%\")\n"
      ]
    },
    {
      "cell_type": "markdown",
      "source": [
        "# opmerkingen INTRA\n",
        "\n",
        "* train acc is 50%\n",
        "* test acc 75%\n",
        "* hyper params gevonden mbv hyper parameter tuning\n",
        "* daarna deze waardes opgeslagen in json file\n",
        "* model gefit mbv deze params\n",
        "* epochs / batch sizes zouden nog getuned/getest kunnen worden\n",
        "\n",
        "Zelfde wordt nu gedaan voor CROSS\n",
        "\n",
        "Hierna statistische test doen op beide uitkomsten om te bepalen of er significantie is tussen de twee classificatie methoden."
      ],
      "metadata": {
        "id": "gyT1Qx5TAwW7"
      },
      "id": "gyT1Qx5TAwW7"
    }
  ],
  "metadata": {
    "kernelspec": {
      "display_name": "Python 3",
      "name": "python3"
    },
    "language_info": {
      "codemirror_mode": {
        "name": "ipython",
        "version": 3
      },
      "file_extension": ".py",
      "mimetype": "text/x-python",
      "name": "python",
      "nbconvert_exporter": "python",
      "pygments_lexer": "ipython3",
      "version": "3.10.11"
    },
    "colab": {
      "provenance": [],
      "gpuType": "T4"
    },
    "accelerator": "GPU"
  },
  "nbformat": 4,
  "nbformat_minor": 5
}