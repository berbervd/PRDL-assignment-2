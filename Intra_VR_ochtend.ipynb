{
  "cells": [
    {
      "cell_type": "markdown",
      "id": "37ea75b3-37ad-4e99-99d2-04178c491366",
      "metadata": {
        "id": "37ea75b3-37ad-4e99-99d2-04178c491366"
      },
      "source": [
        "# Lezen van de files"
      ]
    },
    {
      "cell_type": "markdown",
      "id": "3c6afa23-2777-430c-a3fb-536fb9a170c7",
      "metadata": {
        "id": "3c6afa23-2777-430c-a3fb-536fb9a170c7"
      },
      "source": [
        "Importeren libraries"
      ]
    },
    {
      "cell_type": "code",
      "execution_count": 1,
      "id": "0db3a75c-8195-40f9-a596-12a6a7f6fdfc",
      "metadata": {
        "id": "0db3a75c-8195-40f9-a596-12a6a7f6fdfc"
      },
      "outputs": [],
      "source": [
        "import h5py\n",
        "import os\n",
        "import numpy as np\n",
        "import random\n"
      ]
    },
    {
      "cell_type": "markdown",
      "id": "1151047a-87c1-4aa6-89f6-317a50691c3f",
      "metadata": {
        "id": "1151047a-87c1-4aa6-89f6-317a50691c3f"
      },
      "source": [
        "Hier 1 class van maken, doet:\n",
        "* lezen van de data\n",
        "* Specificeren van de folder waarvan je de data wil inlezen in folder"
      ]
    },
    {
      "cell_type": "markdown",
      "id": "23dcde49-0ad3-4abb-a708-7c4e91c899a9",
      "metadata": {
        "id": "23dcde49-0ad3-4abb-a708-7c4e91c899a9"
      },
      "source": [
        "## Class voor all preprocess stappen"
      ]
    },
    {
      "cell_type": "markdown",
      "id": "uH7ju1yLNOHh",
      "metadata": {
        "id": "uH7ju1yLNOHh",
        "jp-MarkdownHeadingCollapsed": true
      },
      "source": [
        "### DATA PREPROCC (niet nodig als je de arrays gebruikt)"
      ]
    },
    {
      "cell_type": "markdown",
      "id": "051ad1c1-69b1-43c1-9130-06d383e1ab01",
      "metadata": {
        "id": "051ad1c1-69b1-43c1-9130-06d383e1ab01",
        "jp-MarkdownHeadingCollapsed": true
      },
      "source": [
        "### Inlezen INTRA - Drive\n"
      ]
    },
    {
      "cell_type": "code",
      "execution_count": 2,
      "id": "sTCQkuEzvmYP",
      "metadata": {
        "colab": {
          "base_uri": "https://localhost:8080/"
        },
        "id": "sTCQkuEzvmYP",
        "outputId": "deec1295-af99-4e63-8a4c-f2e8af307f1c"
      },
      "outputs": [
        {
          "output_type": "stream",
          "name": "stdout",
          "text": [
            "Drive already mounted at /content/drive; to attempt to forcibly remount, call drive.mount(\"/content/drive\", force_remount=True).\n"
          ]
        }
      ],
      "source": [
        "# Inladen voor INTRA\n",
        "from google.colab import drive\n",
        "drive.mount('/content/drive')"
      ]
    },
    {
      "cell_type": "code",
      "execution_count": 3,
      "id": "a7DQQDofvuwD",
      "metadata": {
        "id": "a7DQQDofvuwD"
      },
      "outputs": [],
      "source": [
        "X_test = np.load('/content/drive/MyDrive/arrays_intra/X_test.npy')\n",
        "X_train = np.load('/content/drive/MyDrive/arrays_intra/X_train.npy')\n",
        "\n",
        "y_test = np.load('/content/drive/MyDrive/arrays_intra/y_test.npy')\n",
        "y_train  = np.load('/content/drive/MyDrive/arrays_intra/y_train.npy')"
      ]
    },
    {
      "cell_type": "code",
      "execution_count": 4,
      "id": "njkIogf71b7v",
      "metadata": {
        "id": "njkIogf71b7v"
      },
      "outputs": [],
      "source": [
        "from tensorflow.keras.utils import to_categorical\n",
        "\n",
        "y_train_encoded = to_categorical(y_train, num_classes=4)\n",
        "y_test_encoded = to_categorical(y_test, num_classes=4)"
      ]
    },
    {
      "cell_type": "code",
      "execution_count": 5,
      "id": "X6CPCCHh28r1",
      "metadata": {
        "colab": {
          "base_uri": "https://localhost:8080/",
          "height": 36
        },
        "id": "X6CPCCHh28r1",
        "outputId": "2ec3d760-f002-4a44-a6ec-2b395eab9040"
      },
      "outputs": [
        {
          "output_type": "execute_result",
          "data": {
            "text/plain": [
              "'/device:GPU:0'"
            ],
            "application/vnd.google.colaboratory.intrinsic+json": {
              "type": "string"
            }
          },
          "metadata": {},
          "execution_count": 5
        }
      ],
      "source": [
        "import tensorflow as tf\n",
        "tf.test.gpu_device_name()"
      ]
    },
    {
      "cell_type": "code",
      "source": [
        "X_test.shape"
      ],
      "metadata": {
        "colab": {
          "base_uri": "https://localhost:8080/"
        },
        "id": "F600ToLrGCkE",
        "outputId": "a406ecd8-4a0c-41eb-ef81-bc8793946f33"
      },
      "id": "F600ToLrGCkE",
      "execution_count": 6,
      "outputs": [
        {
          "output_type": "execute_result",
          "data": {
            "text/plain": [
              "(8, 17812, 248)"
            ]
          },
          "metadata": {},
          "execution_count": 6
        }
      ]
    },
    {
      "cell_type": "markdown",
      "id": "4d081997-15fd-4f3b-8ab6-e298629299aa",
      "metadata": {
        "id": "4d081997-15fd-4f3b-8ab6-e298629299aa"
      },
      "source": [
        "### Trainen + Maken van het model (intra)"
      ]
    },
    {
      "cell_type": "markdown",
      "id": "d020780b",
      "metadata": {
        "id": "d020780b"
      },
      "source": [
        "### LSTM met hyperparametertuning"
      ]
    },
    {
      "cell_type": "code",
      "execution_count": 7,
      "id": "tvRQSConxdvO",
      "metadata": {
        "colab": {
          "base_uri": "https://localhost:8080/"
        },
        "id": "tvRQSConxdvO",
        "outputId": "408f8252-c477-4a8f-9a84-a50c3c6d1138"
      },
      "outputs": [
        {
          "output_type": "stream",
          "name": "stdout",
          "text": [
            "Collecting keras-tuner\n",
            "  Downloading keras_tuner-1.4.6-py3-none-any.whl (128 kB)\n",
            "\u001b[?25l     \u001b[90m━━━━━━━━━━━━━━━━━━━━━━━━━━━━━━━━━━━━━━━━\u001b[0m \u001b[32m0.0/128.9 kB\u001b[0m \u001b[31m?\u001b[0m eta \u001b[36m-:--:--\u001b[0m\r\u001b[2K     \u001b[91m━━━━━━━━━━━━━━━━━━━\u001b[0m\u001b[90m╺\u001b[0m\u001b[90m━━━━━━━━━━━━━━━━━━━━\u001b[0m \u001b[32m61.4/128.9 kB\u001b[0m \u001b[31m1.8 MB/s\u001b[0m eta \u001b[36m0:00:01\u001b[0m\r\u001b[2K     \u001b[90m━━━━━━━━━━━━━━━━━━━━━━━━━━━━━━━━━━━━━━━━\u001b[0m \u001b[32m128.9/128.9 kB\u001b[0m \u001b[31m2.7 MB/s\u001b[0m eta \u001b[36m0:00:00\u001b[0m\n",
            "\u001b[?25hRequirement already satisfied: keras in /usr/local/lib/python3.10/dist-packages (from keras-tuner) (2.15.0)\n",
            "Requirement already satisfied: packaging in /usr/local/lib/python3.10/dist-packages (from keras-tuner) (23.2)\n",
            "Requirement already satisfied: requests in /usr/local/lib/python3.10/dist-packages (from keras-tuner) (2.31.0)\n",
            "Collecting kt-legacy (from keras-tuner)\n",
            "  Downloading kt_legacy-1.0.5-py3-none-any.whl (9.6 kB)\n",
            "Requirement already satisfied: charset-normalizer<4,>=2 in /usr/local/lib/python3.10/dist-packages (from requests->keras-tuner) (3.3.2)\n",
            "Requirement already satisfied: idna<4,>=2.5 in /usr/local/lib/python3.10/dist-packages (from requests->keras-tuner) (3.6)\n",
            "Requirement already satisfied: urllib3<3,>=1.21.1 in /usr/local/lib/python3.10/dist-packages (from requests->keras-tuner) (2.0.7)\n",
            "Requirement already satisfied: certifi>=2017.4.17 in /usr/local/lib/python3.10/dist-packages (from requests->keras-tuner) (2023.11.17)\n",
            "Installing collected packages: kt-legacy, keras-tuner\n",
            "Successfully installed keras-tuner-1.4.6 kt-legacy-1.0.5\n"
          ]
        }
      ],
      "source": [
        "!pip3 install keras-tuner\n"
      ]
    },
    {
      "cell_type": "code",
      "execution_count": 8,
      "id": "2Bs2SliL_EbR",
      "metadata": {
        "colab": {
          "base_uri": "https://localhost:8080/"
        },
        "id": "2Bs2SliL_EbR",
        "outputId": "7722f49e-eea8-43e4-a56f-920157fc1e46"
      },
      "outputs": [
        {
          "output_type": "execute_result",
          "data": {
            "text/plain": [
              "(32, 4)"
            ]
          },
          "metadata": {},
          "execution_count": 8
        }
      ],
      "source": [
        "y_train_encoded.shape"
      ]
    },
    {
      "cell_type": "code",
      "source": [
        "import tensorflow as tf\n",
        "from tensorflow.keras.models import Sequential\n",
        "from tensorflow.keras.layers import LSTM, Dense\n",
        "from kerastuner.tuners import RandomSearch\n",
        "from tensorflow.keras.callbacks import EarlyStopping\n",
        "\n",
        "def build_model_storedParams(loaded_hyperparameters): # dit is de versie die met json params verder gaat\n",
        "    model = Sequential()\n",
        "\n",
        "    # Adding LSTM layers as per loaded hyperparameters\n",
        "    for i in range(loaded_hyperparameters['num_lstm_layers']):\n",
        "        model.add(LSTM(\n",
        "            units=loaded_hyperparameters[f'units_{i}'],\n",
        "            return_sequences=i < loaded_hyperparameters['num_lstm_layers'] - 1,\n",
        "            input_shape=(X_train.shape[1], X_train.shape[2]),\n",
        "            dropout=loaded_hyperparameters.get('lstm_dropout_', 0)))\n",
        "\n",
        "    # Adding Dense layers as per loaded hyperparameters\n",
        "    for i in range(loaded_hyperparameters['num_dense_layers']):\n",
        "        model.add(Dense(\n",
        "            units=loaded_hyperparameters[f'dense_units_{i}'],\n",
        "            activation='relu'))\n",
        "\n",
        "    model.add(Dense(4, activation='softmax'))  # 4 classes\n",
        "\n",
        "    model.compile(\n",
        "        optimizer=tf.keras.optimizers.Adam(loaded_hyperparameters['learning_rate']),\n",
        "        loss='categorical_crossentropy',\n",
        "        metrics=['accuracy']\n",
        "    )\n",
        "    return model\n",
        "\n",
        "\n",
        "def build_model(hp):\n",
        "    model = Sequential()\n",
        "\n",
        "    # Tuning the number of LSTM layers and their units\n",
        "    for i in range(hp.Int('num_lstm_layers', 1, 4)):\n",
        "        model.add(LSTM(\n",
        "            units=hp.Choice('units_' + str(i), values=[16, 32, 64, 128]), #values=[16, 32, 64, 128]\n",
        "            return_sequences=i < hp.get('num_lstm_layers') - 1,  # Only the last layer should not return sequences\n",
        "            input_shape=(X_train.shape[1], X_train.shape[2]),\n",
        "            dropout=hp.Choice('lstm_dropout_', values=[0.1, 0.2, 0.3, 0.4, 0.5])))\n",
        "\n",
        "    # Tuning the number of Dense layers and their units\n",
        "    for i in range(hp.Int('num_dense_layers', 1, 4)):\n",
        "        model.add(Dense(\n",
        "            units=hp.Choice('dense_units_' + str(i), values=[16, 32, 64, 128]), #values=[16, 32, 64, 128]\n",
        "            activation='relu'))\n",
        "\n",
        "    model.add(Dense(4, activation='softmax'))  # 4 classes\n",
        "\n",
        "    model.compile(\n",
        "        optimizer=tf.keras.optimizers.Adam(\n",
        "            hp.Choice('learning_rate', values=[1e-2, 1e-3, 1e-4])), #values=[1e-2, 1e-3, 1e-4]\n",
        "        loss='categorical_crossentropy',\n",
        "        metrics=['accuracy']\n",
        "    )\n",
        "    return model\n",
        "\n",
        "tuner = RandomSearch(\n",
        "    build_model,\n",
        "    objective='val_accuracy',\n",
        "    max_trials=10,\n",
        "    executions_per_trial=3,\n",
        "    directory='./',\n",
        "    project_name='hparam_tuning'\n",
        ")\n",
        "\n",
        "tuner.search_space_summary()\n",
        "\n",
        "# Start the hyperparameter tuning\n",
        "tuner.search(X_train, y_train_encoded, epochs=10, batch_size=8, validation_data=(X_test, y_test_encoded))\n",
        "# epochs + batch size voor nu constant (behalve epochs bij fitten van model)\n",
        "\n",
        "# Get the optimal hyperparameters\n",
        "best_hps = tuner.get_best_hyperparameters(num_trials=1)[0]"
      ],
      "metadata": {
        "id": "IYN22sw8UJkt",
        "colab": {
          "base_uri": "https://localhost:8080/"
        },
        "outputId": "b3798bf0-106d-40da-9070-f13542740272"
      },
      "id": "IYN22sw8UJkt",
      "execution_count": 9,
      "outputs": [
        {
          "output_type": "stream",
          "name": "stdout",
          "text": [
            "Trial 10 Complete [00h 04m 15s]\n",
            "val_accuracy: 0.6666666666666666\n",
            "\n",
            "Best val_accuracy So Far: 0.6666666666666666\n",
            "Total elapsed time: 00h 41m 32s\n"
          ]
        }
      ]
    },
    {
      "cell_type": "code",
      "source": [
        "# voor normale getuned params\n",
        "print(f\"\"\"\n",
        "The hyperparameter search is complete.\n",
        "The optimal number of LSTM and Dense layers and their units can be reviewed in the best hyperparameters.\n",
        "\"\"\")\n",
        "\n",
        "## Early stopping om te kijken of het effect heeft om het aantal epochs te verhogen\n",
        "# Early stopping callback\n",
        "early_stopping_callback = EarlyStopping(monitor='val_loss', patience=5, restore_best_weights=True)\n",
        "\n",
        "# Increase the number of epochs as needed\n",
        "epochs = 50\n",
        "# Build the model with the optimal hyperparameters and train it\n",
        "\n",
        "model = tuner.hypermodel.build(best_hps) ### HIER SWITCHEN NAAR BESTE HYPER PARAMETERS OF INLADEN VIA JSON loaded_hyperparameters\n",
        "\n",
        "#model.fit(X_train, y_train, epochs=10, batch_size=64, validation_data=(X_test, y_test)) # epochs aanpassen voor snelheid\n",
        "# deze was redelijk:\n",
        "#model.fit(X_train, y_train_encoded, epochs=10, batch_size=32, validation_data=(X_test, y_test_encoded)) # kleinere batch size kan miss helpen? sotnd eerst op 64\n",
        "\n",
        "model.fit(X_train, y_train_encoded, epochs=epochs, batch_size=8, validation_data=(X_test, y_test_encoded), callbacks=[early_stopping_callback])\n",
        "\n",
        "# beste model als callback opslaan met .h5 of best params opslaan als file"
      ],
      "metadata": {
        "id": "yCYSwpyOUJnL",
        "colab": {
          "base_uri": "https://localhost:8080/"
        },
        "outputId": "e798a805-1826-40cf-ff98-acc4da99d950"
      },
      "id": "yCYSwpyOUJnL",
      "execution_count": 10,
      "outputs": [
        {
          "output_type": "stream",
          "name": "stdout",
          "text": [
            "\n",
            "The hyperparameter search is complete.\n",
            "The optimal number of LSTM and Dense layers and their units can be reviewed in the best hyperparameters.\n",
            "\n",
            "Epoch 1/50\n",
            "4/4 [==============================] - 15s 2s/step - loss: 1.4329 - accuracy: 0.1875 - val_loss: 1.3904 - val_accuracy: 0.3750\n",
            "Epoch 2/50\n",
            "4/4 [==============================] - 6s 2s/step - loss: 1.3976 - accuracy: 0.2500 - val_loss: 1.3926 - val_accuracy: 0.0000e+00\n",
            "Epoch 3/50\n",
            "4/4 [==============================] - 7s 2s/step - loss: 1.3918 - accuracy: 0.1875 - val_loss: 1.3853 - val_accuracy: 0.5000\n",
            "Epoch 4/50\n",
            "4/4 [==============================] - 6s 1s/step - loss: 1.3932 - accuracy: 0.1562 - val_loss: 1.3761 - val_accuracy: 0.2500\n",
            "Epoch 5/50\n",
            "4/4 [==============================] - 7s 2s/step - loss: 1.3909 - accuracy: 0.1875 - val_loss: 1.3803 - val_accuracy: 0.5000\n",
            "Epoch 6/50\n",
            "4/4 [==============================] - 5s 1s/step - loss: 1.3923 - accuracy: 0.2188 - val_loss: 1.3795 - val_accuracy: 0.2500\n",
            "Epoch 7/50\n",
            "4/4 [==============================] - 7s 2s/step - loss: 1.3881 - accuracy: 0.3125 - val_loss: 1.3799 - val_accuracy: 0.5000\n",
            "Epoch 8/50\n",
            "4/4 [==============================] - 6s 1s/step - loss: 1.3883 - accuracy: 0.2812 - val_loss: 1.3649 - val_accuracy: 0.5000\n",
            "Epoch 9/50\n",
            "4/4 [==============================] - 6s 2s/step - loss: 1.3871 - accuracy: 0.2500 - val_loss: 1.3986 - val_accuracy: 0.2500\n",
            "Epoch 10/50\n",
            "4/4 [==============================] - 6s 2s/step - loss: 1.3926 - accuracy: 0.2188 - val_loss: 1.3527 - val_accuracy: 0.8750\n",
            "Epoch 11/50\n",
            "4/4 [==============================] - 6s 1s/step - loss: 1.3863 - accuracy: 0.2500 - val_loss: 1.3311 - val_accuracy: 0.5000\n",
            "Epoch 12/50\n",
            "4/4 [==============================] - 7s 2s/step - loss: 1.3960 - accuracy: 0.2812 - val_loss: 1.3154 - val_accuracy: 0.8750\n",
            "Epoch 13/50\n",
            "4/4 [==============================] - 5s 1s/step - loss: 1.3877 - accuracy: 0.2500 - val_loss: 1.3915 - val_accuracy: 0.2500\n",
            "Epoch 14/50\n",
            "4/4 [==============================] - 6s 2s/step - loss: 1.3907 - accuracy: 0.2188 - val_loss: 1.3839 - val_accuracy: 0.2500\n",
            "Epoch 15/50\n",
            "4/4 [==============================] - 6s 1s/step - loss: 1.3878 - accuracy: 0.2500 - val_loss: 1.3786 - val_accuracy: 0.3750\n",
            "Epoch 16/50\n",
            "4/4 [==============================] - 6s 2s/step - loss: 1.3861 - accuracy: 0.2500 - val_loss: 1.3810 - val_accuracy: 0.3750\n",
            "Epoch 17/50\n",
            "4/4 [==============================] - 10s 3s/step - loss: 1.3846 - accuracy: 0.2188 - val_loss: 1.3695 - val_accuracy: 0.2500\n"
          ]
        },
        {
          "output_type": "execute_result",
          "data": {
            "text/plain": [
              "<keras.src.callbacks.History at 0x7989288d78b0>"
            ]
          },
          "metadata": {},
          "execution_count": 10
        }
      ]
    },
    {
      "cell_type": "code",
      "source": [
        "model.summary()"
      ],
      "metadata": {
        "colab": {
          "base_uri": "https://localhost:8080/"
        },
        "id": "Lqa5R0LkhemW",
        "outputId": "11395692-f351-4c7a-8805-6084825341cb"
      },
      "id": "Lqa5R0LkhemW",
      "execution_count": 11,
      "outputs": [
        {
          "output_type": "stream",
          "name": "stdout",
          "text": [
            "Model: \"sequential_1\"\n",
            "_________________________________________________________________\n",
            " Layer (type)                Output Shape              Param #   \n",
            "=================================================================\n",
            " lstm_3 (LSTM)               (None, 17812, 128)        193024    \n",
            "                                                                 \n",
            " lstm_4 (LSTM)               (None, 17812, 16)         9280      \n",
            "                                                                 \n",
            " lstm_5 (LSTM)               (None, 64)                20736     \n",
            "                                                                 \n",
            " dense_4 (Dense)             (None, 32)                2080      \n",
            "                                                                 \n",
            " dense_5 (Dense)             (None, 16)                528       \n",
            "                                                                 \n",
            " dense_6 (Dense)             (None, 128)               2176      \n",
            "                                                                 \n",
            " dense_7 (Dense)             (None, 4)                 516       \n",
            "                                                                 \n",
            "=================================================================\n",
            "Total params: 228340 (891.95 KB)\n",
            "Trainable params: 228340 (891.95 KB)\n",
            "Non-trainable params: 0 (0.00 Byte)\n",
            "_________________________________________________________________\n"
          ]
        }
      ]
    },
    {
      "cell_type": "code",
      "source": [
        "## To see the best hyper params + valuesL:\n",
        "print(\"Best Hyperparameters:\")\n",
        "for hyperparam in best_hps.values:\n",
        "    print(f\"{hyperparam}: {best_hps.get(hyperparam)}\")"
      ],
      "metadata": {
        "id": "nBvaAntqUJp3",
        "colab": {
          "base_uri": "https://localhost:8080/"
        },
        "outputId": "91e58249-f9ff-4498-f3f4-505c9f28b5e0"
      },
      "id": "nBvaAntqUJp3",
      "execution_count": 12,
      "outputs": [
        {
          "output_type": "stream",
          "name": "stdout",
          "text": [
            "Best Hyperparameters:\n",
            "num_lstm_layers: 3\n",
            "units_0: 128\n",
            "lstm_dropout_: 0.3\n",
            "num_dense_layers: 3\n",
            "dense_units_0: 32\n",
            "learning_rate: 0.01\n",
            "dense_units_1: 16\n",
            "dense_units_2: 128\n",
            "dense_units_3: 32\n",
            "units_1: 16\n",
            "units_2: 64\n",
            "units_3: 128\n"
          ]
        }
      ]
    },
    {
      "cell_type": "code",
      "source": [
        "from sklearn.metrics import confusion_matrix, classification_report\n",
        "import seaborn as sns\n",
        "import matplotlib.pyplot as plt\n",
        "\n",
        "# Predictions\n",
        "y_pred = model.predict(X_test)\n",
        "y_pred_classes = np.argmax(y_pred, axis=1)\n",
        "\n",
        "# Confusion Matrix\n",
        "cm = confusion_matrix(np.argmax(y_test_encoded, axis=1), y_pred_classes)\n",
        "sns.heatmap(cm, annot=True, fmt='d')\n",
        "plt.ylabel('Actual')\n",
        "plt.xlabel('Predicted')\n",
        "plt.title('Confusion Matrix')\n",
        "plt.show()\n",
        "\n",
        "# Classification Report for additional metrics\n",
        "print(classification_report(np.argmax(y_test_encoded, axis=1), y_pred_classes))"
      ],
      "metadata": {
        "id": "-bmLphyNUJsK",
        "colab": {
          "base_uri": "https://localhost:8080/",
          "height": 680
        },
        "outputId": "e9e64cc2-fb8b-4bd8-95d4-5c1adc056ecc"
      },
      "id": "-bmLphyNUJsK",
      "execution_count": 13,
      "outputs": [
        {
          "output_type": "stream",
          "name": "stdout",
          "text": [
            "1/1 [==============================] - 2s 2s/step\n"
          ]
        },
        {
          "output_type": "display_data",
          "data": {
            "text/plain": [
              "<Figure size 640x480 with 2 Axes>"
            ],
            "image/png": "[encoded data removed]"
          },
          "metadata": {}
        },
        {
          "output_type": "stream",
          "name": "stdout",
          "text": [
            "              precision    recall  f1-score   support\n",
            "\n",
            "           0       1.00      1.00      1.00         2\n",
            "           1       0.67      1.00      0.80         2\n",
            "           2       1.00      1.00      1.00         2\n",
            "           3       1.00      0.50      0.67         2\n",
            "\n",
            "    accuracy                           0.88         8\n",
            "   macro avg       0.92      0.88      0.87         8\n",
            "weighted avg       0.92      0.88      0.87         8\n",
            "\n"
          ]
        }
      ]
    },
    {
      "cell_type": "code",
      "source": [
        "# Evaluating the model on the training data\n",
        "train_loss, train_accuracy = model.evaluate(X_train, y_train_encoded)\n",
        "print(f\"Training Accuracy: {train_accuracy*100:.2f}%\")\n",
        "\n",
        "# Evaluating the model on the test data\n",
        "test_loss, test_accuracy = model.evaluate(X_test, y_test_encoded)\n",
        "print(f\"Test Accuracy: {test_accuracy*100:.2f}%\")"
      ],
      "metadata": {
        "colab": {
          "base_uri": "https://localhost:8080/"
        },
        "id": "GxP7W_Cjhd0j",
        "outputId": "7dd4303b-b5a6-4564-b7b5-762e7cfb63c3"
      },
      "id": "GxP7W_Cjhd0j",
      "execution_count": 14,
      "outputs": [
        {
          "output_type": "stream",
          "name": "stdout",
          "text": [
            "1/1 [==============================] - 4s 4s/step - loss: 1.3664 - accuracy: 0.3125\n",
            "Training Accuracy: 31.25%\n",
            "1/1 [==============================] - 1s 1s/step - loss: 1.3154 - accuracy: 0.8750\n",
            "Test Accuracy: 87.50%\n"
          ]
        }
      ]
    },
    {
      "cell_type": "markdown",
      "source": [
        "## Proberen het vaker te runnen"
      ],
      "metadata": {
        "id": "d131rP-qi6oo"
      },
      "id": "d131rP-qi6oo"
    },
    {
      "cell_type": "code",
      "source": [
        "import tensorflow as tf\n",
        "from tensorflow.keras.models import Sequential\n",
        "from tensorflow.keras.layers import LSTM, Dense\n",
        "from tensorflow.keras.utils import to_categorical\n",
        "from tensorflow.keras.callbacks import EarlyStopping\n",
        "from sklearn.metrics import confusion_matrix, classification_report\n",
        "import seaborn as sns\n",
        "import matplotlib.pyplot as plt\n",
        "import numpy as np\n",
        "\n",
        "# Assuming X_train, X_test, y_train, y_test are already loaded\n",
        "y_train_encoded = to_categorical(y_train, num_classes=4)\n",
        "y_test_encoded = to_categorical(y_test, num_classes=4)\n",
        "\n",
        "def build_model_from_best_hps(best_hps):\n",
        "    model = Sequential()\n",
        "    model.add(LSTM(units=best_hps['units_0'], return_sequences=True, input_shape=(X_train.shape[1], X_train.shape[2]), dropout=best_hps['lstm_dropout_']))\n",
        "    model.add(LSTM(units=best_hps['units_1'], return_sequences=best_hps['num_lstm_layers'] > 2))\n",
        "    if best_hps['num_lstm_layers'] > 2:\n",
        "        model.add(LSTM(units=best_hps['units_2']))\n",
        "    model.add(Dense(units=best_hps['dense_units_0'], activation='relu'))\n",
        "    model.add(Dense(units=best_hps['dense_units_1'], activation='relu'))\n",
        "    if best_hps['num_dense_layers'] > 2:\n",
        "        model.add(Dense(units=best_hps['dense_units_2'], activation='relu'))\n",
        "    model.add(Dense(4, activation='softmax'))\n",
        "    model.compile(optimizer=tf.keras.optimizers.Adam(learning_rate=best_hps['learning_rate']), loss='categorical_crossentropy', metrics=['accuracy'])\n",
        "    return model\n",
        "\n",
        "# Hyperparameters\n",
        "best_hps = {'num_lstm_layers': 3, 'units_0': 128, 'lstm_dropout_': 0.3, 'num_dense_layers': 3, 'dense_units_0': 32, 'learning_rate': 0.01, 'dense_units_1': 16, 'dense_units_2': 128, 'dense_units_3': 32, 'units_1': 16, 'units_2': 64, 'units_3': 128}\n",
        "\n",
        "num_runs = 10\n",
        "all_train_accuracies = []\n",
        "all_test_accuracies = []\n",
        "best_accuracy = 0\n",
        "best_model = None\n",
        "\n",
        "for run in range(num_runs):\n",
        "    print(f\"Training Run {run+1}/{num_runs}\")\n",
        "\n",
        "    model = build_model_from_best_hps(best_hps)\n",
        "    model.fit(X_train, y_train_encoded, epochs=50, batch_size=8, validation_data=(X_test, y_test_encoded), callbacks=[EarlyStopping(monitor='val_loss', patience=5, restore_best_weights=True)], verbose=0)\n",
        "\n",
        "    train_loss, train_accuracy = model.evaluate(X_train, y_train_encoded, verbose=0)\n",
        "    test_loss, test_accuracy = model.evaluate(X_test, y_test_encoded, verbose=0)\n",
        "\n",
        "    all_train_accuracies.append(train_accuracy)\n",
        "    all_test_accuracies.append(test_accuracy)\n",
        "\n",
        "    if test_accuracy > best_accuracy:\n",
        "        best_accuracy = test_accuracy\n",
        "        best_model = tf.keras.models.clone_model(model)\n",
        "        best_model.set_weights(model.get_weights())\n",
        "\n",
        "print(f\"Average Training Accuracy: {np.mean(all_train_accuracies):.2f}%\")\n",
        "print(f\"Average Test Accuracy: {np.mean(all_test_accuracies):.2f}%\")\n",
        "print(f\"Best Model Test Accuracy: {best_accuracy:.2f}%\")\n",
        "\n",
        "# Confusion Matrix and Classification Report for the best model\n",
        "y_pred = best_model.predict(X_test)\n",
        "y_pred_classes = np.argmax(y_pred, axis=1)\n",
        "cm = confusion_matrix(np.argmax(y_test_encoded, axis=1), y_pred_classes)\n",
        "sns.heatmap(cm, annot=True, fmt='d')\n",
        "plt.ylabel('Actual')\n",
        "plt.xlabel('Predicted')\n",
        "plt.title('Confusion Matrix')\n",
        "plt.show()\n",
        "print(classification_report(np.argmax(y_test_encoded, axis=1), y_pred_classes))\n"
      ],
      "metadata": {
        "colab": {
          "base_uri": "https://localhost:8080/",
          "height": 1000
        },
        "id": "3LOxf8PtiuhE",
        "outputId": "1ad2a0dc-fea7-4cf6-f35b-ca194784c48b"
      },
      "id": "3LOxf8PtiuhE",
      "execution_count": 7,
      "outputs": [
        {
          "output_type": "stream",
          "name": "stdout",
          "text": [
            "Training Run 1/10\n",
            "Training Run 2/10\n",
            "Training Run 3/10\n",
            "Training Run 4/10\n",
            "Training Run 5/10\n",
            "Training Run 6/10\n",
            "Training Run 7/10\n",
            "Training Run 8/10\n",
            "Training Run 9/10\n",
            "Training Run 10/10\n",
            "Average Training Accuracy: 0.32%\n",
            "Average Test Accuracy: 0.44%\n",
            "Best Model Test Accuracy: 0.62%\n",
            "1/1 [==============================] - 2s 2s/step\n"
          ]
        },
        {
          "output_type": "display_data",
          "data": {
            "text/plain": [
              "<Figure size 640x480 with 2 Axes>"
            ],
            "image/png": "[encoded data removed]"
          },
          "metadata": {}
        },
        {
          "output_type": "stream",
          "name": "stdout",
          "text": [
            "              precision    recall  f1-score   support\n",
            "\n",
            "           0       0.00      0.00      0.00         2\n",
            "           1       0.67      1.00      0.80         2\n",
            "           2       0.67      1.00      0.80         2\n",
            "           3       0.50      0.50      0.50         2\n",
            "\n",
            "    accuracy                           0.62         8\n",
            "   macro avg       0.46      0.62      0.53         8\n",
            "weighted avg       0.46      0.62      0.53         8\n",
            "\n"
          ]
        },
        {
          "output_type": "stream",
          "name": "stderr",
          "text": [
            "/usr/local/lib/python3.10/dist-packages/sklearn/metrics/_classification.py:1344: UndefinedMetricWarning: Precision and F-score are ill-defined and being set to 0.0 in labels with no predicted samples. Use `zero_division` parameter to control this behavior.\n",
            "  _warn_prf(average, modifier, msg_start, len(result))\n",
            "/usr/local/lib/python3.10/dist-packages/sklearn/metrics/_classification.py:1344: UndefinedMetricWarning: Precision and F-score are ill-defined and being set to 0.0 in labels with no predicted samples. Use `zero_division` parameter to control this behavior.\n",
            "  _warn_prf(average, modifier, msg_start, len(result))\n",
            "/usr/local/lib/python3.10/dist-packages/sklearn/metrics/_classification.py:1344: UndefinedMetricWarning: Precision and F-score are ill-defined and being set to 0.0 in labels with no predicted samples. Use `zero_division` parameter to control this behavior.\n",
            "  _warn_prf(average, modifier, msg_start, len(result))\n"
          ]
        }
      ]
    },
    {
      "cell_type": "code",
      "source": [
        "best_accuracy"
      ],
      "metadata": {
        "colab": {
          "base_uri": "https://localhost:8080/"
        },
        "id": "EpflHfN_oQD0",
        "outputId": "24ade92c-f146-4bbe-8079-063051b14ee1"
      },
      "id": "EpflHfN_oQD0",
      "execution_count": 8,
      "outputs": [
        {
          "output_type": "execute_result",
          "data": {
            "text/plain": [
              "0.625"
            ]
          },
          "metadata": {},
          "execution_count": 8
        }
      ]
    },
    {
      "cell_type": "code",
      "source": [
        "all_train_accuracies"
      ],
      "metadata": {
        "colab": {
          "base_uri": "https://localhost:8080/"
        },
        "id": "A4q90vz4oUuN",
        "outputId": "301d997f-6511-4206-cdcc-70b96e3e83ea"
      },
      "id": "A4q90vz4oUuN",
      "execution_count": 9,
      "outputs": [
        {
          "output_type": "execute_result",
          "data": {
            "text/plain": [
              "[0.25, 0.34375, 0.34375, 0.4375, 0.25, 0.25, 0.34375, 0.3125, 0.3125, 0.3125]"
            ]
          },
          "metadata": {},
          "execution_count": 9
        }
      ]
    },
    {
      "cell_type": "code",
      "source": [
        "all_test_accuracies"
      ],
      "metadata": {
        "colab": {
          "base_uri": "https://localhost:8080/"
        },
        "id": "NYNbjhLOoVv6",
        "outputId": "11d27559-4cb9-4301-c4fa-e944fece27f4"
      },
      "id": "NYNbjhLOoVv6",
      "execution_count": 10,
      "outputs": [
        {
          "output_type": "execute_result",
          "data": {
            "text/plain": [
              "[0.5, 0.5, 0.375, 0.625, 0.375, 0.25, 0.625, 0.5, 0.5, 0.125]"
            ]
          },
          "metadata": {},
          "execution_count": 10
        }
      ]
    },
    {
      "cell_type": "markdown",
      "source": [
        "### Handmatige"
      ],
      "metadata": {
        "id": "K2tcRLChkXLM"
      },
      "id": "K2tcRLChkXLM"
    },
    {
      "cell_type": "code",
      "source": [],
      "metadata": {
        "id": "0id4YSk7kWin"
      },
      "id": "0id4YSk7kWin",
      "execution_count": null,
      "outputs": []
    },
    {
      "cell_type": "code",
      "source": [],
      "metadata": {
        "id": "IWx9OG9YkWxy"
      },
      "id": "IWx9OG9YkWxy",
      "execution_count": null,
      "outputs": []
    }
  ],
  "metadata": {
    "accelerator": "GPU",
    "colab": {
      "gpuType": "T4",
      "provenance": []
    },
    "kernelspec": {
      "display_name": "Python 3 (ipykernel)",
      "language": "python",
      "name": "python3"
    },
    "language_info": {
      "codemirror_mode": {
        "name": "ipython",
        "version": 3
      },
      "file_extension": ".py",
      "mimetype": "text/x-python",
      "name": "python",
      "nbconvert_exporter": "python",
      "pygments_lexer": "ipython3",
      "version": "3.11.5"
    }
  },
  "nbformat": 4,
  "nbformat_minor": 5
}