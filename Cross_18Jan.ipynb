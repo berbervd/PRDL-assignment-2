{
  "cells": [
    {
      "cell_type": "markdown",
      "metadata": {
        "id": "37ea75b3-37ad-4e99-99d2-04178c491366"
      },
      "source": [
        "# Lezen van de files"
      ],
      "id": "37ea75b3-37ad-4e99-99d2-04178c491366"
    },
    {
      "cell_type": "markdown",
      "metadata": {
        "id": "3c6afa23-2777-430c-a3fb-536fb9a170c7"
      },
      "source": [
        "Importeren libraries"
      ],
      "id": "3c6afa23-2777-430c-a3fb-536fb9a170c7"
    },
    {
      "cell_type": "code",
      "execution_count": 1,
      "metadata": {
        "id": "0db3a75c-8195-40f9-a596-12a6a7f6fdfc"
      },
      "outputs": [],
      "source": [
        "import h5py\n",
        "import os\n",
        "import numpy as np\n",
        "import random\n"
      ],
      "id": "0db3a75c-8195-40f9-a596-12a6a7f6fdfc"
    },
    {
      "cell_type": "markdown",
      "metadata": {
        "id": "1151047a-87c1-4aa6-89f6-317a50691c3f"
      },
      "source": [
        "Hier 1 class van maken, doet:\n",
        "* lezen van de data\n",
        "* Specificeren van de folder waarvan je de data wil inlezen in folder"
      ],
      "id": "1151047a-87c1-4aa6-89f6-317a50691c3f"
    },
    {
      "cell_type": "markdown",
      "metadata": {
        "id": "23dcde49-0ad3-4abb-a708-7c4e91c899a9"
      },
      "source": [
        "## Class voor all preprocess stappen"
      ],
      "id": "23dcde49-0ad3-4abb-a708-7c4e91c899a9"
    },
    {
      "cell_type": "markdown",
      "metadata": {
        "id": "051ad1c1-69b1-43c1-9130-06d383e1ab01"
      },
      "source": [
        "### Inlezen CROSS\n"
      ],
      "id": "051ad1c1-69b1-43c1-9130-06d383e1ab01"
    },
    {
      "cell_type": "code",
      "execution_count": 2,
      "metadata": {
        "colab": {
          "base_uri": "https://localhost:8080/"
        },
        "id": "sTCQkuEzvmYP",
        "outputId": "11d4a92b-2839-4f81-9433-022557821d61"
      },
      "outputs": [
        {
          "output_type": "stream",
          "name": "stdout",
          "text": [
            "Mounted at /content/drive\n"
          ]
        }
      ],
      "source": [
        "# Inladen voor INTRA\n",
        "from google.colab import drive\n",
        "drive.mount('/content/drive')"
      ],
      "id": "sTCQkuEzvmYP"
    },
    {
      "cell_type": "code",
      "execution_count": 3,
      "metadata": {
        "id": "a7DQQDofvuwD"
      },
      "outputs": [],
      "source": [
        "X_test1, X_test2, X_test3 = np.load('/content/drive/MyDrive/PRDL_final/arrays/X_test1_reshaped.npy'), np.load('/content/drive/MyDrive/PRDL_final/arrays/X_test2_reshaped.npy'), np.load('/content/drive/MyDrive/PRDL_final/arrays/X_test3_reshaped.npy')\n",
        "X_train = np.load('/content/drive/MyDrive/PRDL_final/arrays/X_train.npy')\n",
        "\n",
        "y_test1, y_test2, y_test3 = np.load('/content/drive/MyDrive/PRDL_final/arrays/y_test1.npy'), np.load('/content/drive/MyDrive/PRDL_final/arrays/y_test2.npy'), np.load('/content/drive/MyDrive/PRDL_final/arrays/y_test3.npy')\n",
        "y_train  = np.load('/content/drive/MyDrive/PRDL_final/arrays/y_train.npy')\n",
        "\n"
      ],
      "id": "a7DQQDofvuwD"
    },
    {
      "cell_type": "code",
      "execution_count": 4,
      "metadata": {
        "id": "njkIogf71b7v"
      },
      "outputs": [],
      "source": [
        "from tensorflow.keras.utils import to_categorical\n",
        "\n",
        "y_train_encoded = to_categorical(y_train, num_classes=4)\n",
        "y_test1_encoded, y_test2_encoded, y_test3_encoded = to_categorical(y_test1, num_classes=4), to_categorical(y_test2, num_classes=4), to_categorical(y_test3, num_classes=4)"
      ],
      "id": "njkIogf71b7v"
    },
    {
      "cell_type": "code",
      "execution_count": 5,
      "metadata": {
        "colab": {
          "base_uri": "https://localhost:8080/",
          "height": 36
        },
        "id": "X6CPCCHh28r1",
        "outputId": "6b619b1e-74ac-4bb8-ee70-09c9c9b7a0b0"
      },
      "outputs": [
        {
          "output_type": "execute_result",
          "data": {
            "text/plain": [
              "'/device:GPU:0'"
            ],
            "application/vnd.google.colaboratory.intrinsic+json": {
              "type": "string"
            }
          },
          "metadata": {},
          "execution_count": 5
        }
      ],
      "source": [
        "import tensorflow as tf\n",
        "tf.test.gpu_device_name()"
      ],
      "id": "X6CPCCHh28r1"
    },
    {
      "cell_type": "markdown",
      "metadata": {
        "id": "4d081997-15fd-4f3b-8ab6-e298629299aa"
      },
      "source": [
        "### Trainen + Maken van het model (intra)"
      ],
      "id": "4d081997-15fd-4f3b-8ab6-e298629299aa"
    },
    {
      "cell_type": "markdown",
      "metadata": {
        "id": "6Xw08whbOQUQ"
      },
      "source": [],
      "id": "6Xw08whbOQUQ"
    },
    {
      "cell_type": "markdown",
      "metadata": {
        "id": "d020780b"
      },
      "source": [
        "### LSTM met hyperparametertuning"
      ],
      "id": "d020780b"
    },
    {
      "cell_type": "code",
      "execution_count": 6,
      "metadata": {
        "colab": {
          "base_uri": "https://localhost:8080/"
        },
        "id": "tvRQSConxdvO",
        "outputId": "94753c79-8a4b-4ca9-ebd5-c2a24e0d16e7"
      },
      "outputs": [
        {
          "output_type": "stream",
          "name": "stdout",
          "text": [
            "Collecting keras-tuner\n",
            "  Downloading keras_tuner-1.4.6-py3-none-any.whl (128 kB)\n",
            "\u001b[?25l     \u001b[90m━━━━━━━━━━━━━━━━━━━━━━━━━━━━━━━━━━━━━━━━\u001b[0m \u001b[32m0.0/128.9 kB\u001b[0m \u001b[31m?\u001b[0m eta \u001b[36m-:--:--\u001b[0m\r\u001b[2K     \u001b[90m━━━━━━━━━━━━━━━━━━━━━━━━━━━━━━━━━━━━━━━━\u001b[0m \u001b[32m128.9/128.9 kB\u001b[0m \u001b[31m3.8 MB/s\u001b[0m eta \u001b[36m0:00:00\u001b[0m\n",
            "\u001b[?25hRequirement already satisfied: keras in /usr/local/lib/python3.10/dist-packages (from keras-tuner) (2.15.0)\n",
            "Requirement already satisfied: packaging in /usr/local/lib/python3.10/dist-packages (from keras-tuner) (23.2)\n",
            "Requirement already satisfied: requests in /usr/local/lib/python3.10/dist-packages (from keras-tuner) (2.31.0)\n",
            "Collecting kt-legacy (from keras-tuner)\n",
            "  Downloading kt_legacy-1.0.5-py3-none-any.whl (9.6 kB)\n",
            "Requirement already satisfied: charset-normalizer<4,>=2 in /usr/local/lib/python3.10/dist-packages (from requests->keras-tuner) (3.3.2)\n",
            "Requirement already satisfied: idna<4,>=2.5 in /usr/local/lib/python3.10/dist-packages (from requests->keras-tuner) (3.6)\n",
            "Requirement already satisfied: urllib3<3,>=1.21.1 in /usr/local/lib/python3.10/dist-packages (from requests->keras-tuner) (2.0.7)\n",
            "Requirement already satisfied: certifi>=2017.4.17 in /usr/local/lib/python3.10/dist-packages (from requests->keras-tuner) (2023.11.17)\n",
            "Installing collected packages: kt-legacy, keras-tuner\n",
            "Successfully installed keras-tuner-1.4.6 kt-legacy-1.0.5\n"
          ]
        }
      ],
      "source": [
        "!pip3 install keras-tuner\n"
      ],
      "id": "tvRQSConxdvO"
    },
    {
      "cell_type": "code",
      "execution_count": 7,
      "metadata": {
        "colab": {
          "base_uri": "https://localhost:8080/"
        },
        "id": "8ba38762",
        "outputId": "33e89d10-ee74-4c9e-e624-c926e3f968d1"
      },
      "outputs": [
        {
          "output_type": "stream",
          "name": "stdout",
          "text": [
            "Trial 10 Complete [00h 04m 14s]\n",
            "val_accuracy: 0.4583333333333333\n",
            "\n",
            "Best val_accuracy So Far: 0.4791666666666667\n",
            "Total elapsed time: 00h 38m 20s\n"
          ]
        }
      ],
      "source": [
        "import tensorflow as tf\n",
        "from tensorflow.keras.models import Sequential\n",
        "from tensorflow.keras.layers import LSTM, Dense\n",
        "from kerastuner.tuners import RandomSearch\n",
        "from tensorflow.keras.callbacks import EarlyStopping\n",
        "from tensorflow.keras.regularizers import l2\n",
        "\n",
        "def build_model_storedParams(loaded_hyperparameters): # dit is de versie die met json params verder gaat\n",
        "    model = Sequential()\n",
        "\n",
        "    # Adding LSTM layers as per loaded hyperparameters\n",
        "    for i in range(loaded_hyperparameters['num_lstm_layers']):\n",
        "        model.add(LSTM(\n",
        "            units=loaded_hyperparameters[f'units_{i}'],\n",
        "            return_sequences=i < loaded_hyperparameters['num_lstm_layers'] - 1,\n",
        "            input_shape=(X_train.shape[1], X_train.shape[2]),\n",
        "            dropout=loaded_hyperparameters.get('lstm_dropout_', 0)))\n",
        "\n",
        "    # Adding Dense layers as per loaded hyperparameters\n",
        "    for i in range(loaded_hyperparameters['num_dense_layers']):\n",
        "        model.add(Dense(\n",
        "            units=loaded_hyperparameters[f'dense_units_{i}'],\n",
        "            activation='relu'))\n",
        "\n",
        "    model.add(Dense(4, activation='softmax'))  # 4 classes\n",
        "\n",
        "    model.compile(\n",
        "        optimizer=tf.keras.optimizers.Adam(loaded_hyperparameters['learning_rate']),\n",
        "        loss='categorical_crossentropy',\n",
        "        metrics=['accuracy']\n",
        "    )\n",
        "    return model\n",
        "\n",
        "\n",
        "def build_model(hp):\n",
        "    model = Sequential()\n",
        "\n",
        "    # Tuning the number of LSTM layers and their units\n",
        "    for i in range(hp.Int('num_lstm_layers', 1, 4)):\n",
        "        model.add(LSTM(\n",
        "            units=hp.Choice('units_' + str(i), values=[16, 32, 64, 128]), #values=[16, 32, 64, 128]\n",
        "            return_sequences=i < hp.get('num_lstm_layers') - 1,  # Only the last layer should not return sequences\n",
        "            input_shape=(X_train.shape[1], X_train.shape[2]),\n",
        "            dropout=hp.Choice('lstm_dropout_', values=[0.1, 0.2, 0.3, 0.4, 0.5]),\n",
        "            kernel_regularizer=l2(hp.Choice('lstm_kernel_regularizer_', values=[1e-3, 1e-4, 1e-5]))))\n",
        "\n",
        "    # Tuning the number of Dense layers and their units\n",
        "    for i in range(hp.Int('num_dense_layers', 1, 4)):\n",
        "        model.add(Dense(\n",
        "            units=hp.Choice('dense_units_' + str(i), values=[16, 32, 64, 128]), #values=[16, 32, 64, 128]\n",
        "            activation='relu',\n",
        "            kernel_regularizer=l2(hp.Choice('dense_kernel_regularizer_', values=[1e-3, 1e-4, 1e-5]))))\n",
        "\n",
        "    model.add(Dense(4, activation='softmax'))  # 4 classes\n",
        "\n",
        "    model.compile(\n",
        "        optimizer=tf.keras.optimizers.Adam(\n",
        "            hp.Choice('learning_rate', values=[1e-2, 1e-3, 1e-4])), #values=[1e-2, 1e-3, 1e-4]\n",
        "        loss='categorical_crossentropy',\n",
        "        metrics=['accuracy']\n",
        "    )\n",
        "    return model\n",
        "\n",
        "tuner = RandomSearch(\n",
        "    build_model,\n",
        "    objective='val_accuracy',\n",
        "    max_trials=10,\n",
        "    executions_per_trial=3,\n",
        "    directory='./',\n",
        "    project_name='hparam_tuning'\n",
        ")\n",
        "\n",
        "tuner.search_space_summary()\n",
        "\n",
        "# Start the hyperparameter tuning\n",
        "tuner.search(X_train, y_train_encoded, epochs=10, batch_size=8, validation_data=(X_test1, y_test1_encoded))\n",
        "# epochs + batch size voor nu constant (behalve epochs bij fitten van model)\n",
        "\n",
        "# Get the optimal hyperparameters\n",
        "best_hps = tuner.get_best_hyperparameters(num_trials=1)[0]\n",
        "\n"
      ],
      "id": "8ba38762"
    },
    {
      "cell_type": "code",
      "execution_count": 8,
      "metadata": {
        "colab": {
          "base_uri": "https://localhost:8080/"
        },
        "id": "sFFmRBjk-Kqe",
        "outputId": "988d5339-7952-4eff-b719-0e7cc84af795"
      },
      "outputs": [
        {
          "output_type": "stream",
          "name": "stdout",
          "text": [
            "\n",
            "The hyperparameter search is complete.\n",
            "The optimal number of LSTM and Dense layers and their units can be reviewed in the best hyperparameters.\n",
            "\n",
            "Epoch 1/50\n",
            "2/2 [==============================] - 15s 3s/step - loss: 1.4105 - accuracy: 0.2031 - val_loss: 1.4070 - val_accuracy: 0.1875\n",
            "Epoch 2/50\n",
            "2/2 [==============================] - 3s 2s/step - loss: 1.4060 - accuracy: 0.3438 - val_loss: 1.4044 - val_accuracy: 0.2500\n",
            "Epoch 3/50\n",
            "2/2 [==============================] - 3s 2s/step - loss: 1.4007 - accuracy: 0.3750 - val_loss: 1.4025 - val_accuracy: 0.1875\n",
            "Epoch 4/50\n",
            "2/2 [==============================] - 3s 2s/step - loss: 1.3919 - accuracy: 0.3906 - val_loss: 1.4007 - val_accuracy: 0.1875\n",
            "Epoch 5/50\n",
            "2/2 [==============================] - 3s 2s/step - loss: 1.3782 - accuracy: 0.4062 - val_loss: 1.3955 - val_accuracy: 0.1875\n",
            "Epoch 6/50\n",
            "2/2 [==============================] - 3s 2s/step - loss: 1.3725 - accuracy: 0.3438 - val_loss: 1.3850 - val_accuracy: 0.1875\n",
            "Epoch 7/50\n",
            "2/2 [==============================] - 3s 2s/step - loss: 1.3358 - accuracy: 0.4062 - val_loss: 1.3856 - val_accuracy: 0.1875\n",
            "Epoch 8/50\n",
            "2/2 [==============================] - 3s 2s/step - loss: 1.3025 - accuracy: 0.4531 - val_loss: 1.3882 - val_accuracy: 0.0625\n",
            "Epoch 9/50\n",
            "2/2 [==============================] - 3s 2s/step - loss: 1.2463 - accuracy: 0.5312 - val_loss: 1.3249 - val_accuracy: 0.3125\n",
            "Epoch 10/50\n",
            "2/2 [==============================] - 2s 1s/step - loss: 1.2390 - accuracy: 0.4375 - val_loss: 1.3890 - val_accuracy: 0.0625\n",
            "Epoch 11/50\n",
            "2/2 [==============================] - 2s 1s/step - loss: 1.1797 - accuracy: 0.4219 - val_loss: 1.4014 - val_accuracy: 0.0625\n",
            "Epoch 12/50\n",
            "2/2 [==============================] - 3s 2s/step - loss: 1.1847 - accuracy: 0.4688 - val_loss: 1.3832 - val_accuracy: 0.0625\n",
            "Epoch 13/50\n",
            "2/2 [==============================] - 3s 2s/step - loss: 1.1018 - accuracy: 0.4844 - val_loss: 1.3095 - val_accuracy: 0.1875\n",
            "Epoch 14/50\n",
            "2/2 [==============================] - 3s 2s/step - loss: 1.0621 - accuracy: 0.5000 - val_loss: 1.3301 - val_accuracy: 0.3125\n",
            "Epoch 15/50\n",
            "2/2 [==============================] - 3s 2s/step - loss: 0.9873 - accuracy: 0.6406 - val_loss: 1.3789 - val_accuracy: 0.3125\n",
            "Epoch 16/50\n",
            "2/2 [==============================] - 2s 1s/step - loss: 0.9233 - accuracy: 0.6562 - val_loss: 1.3111 - val_accuracy: 0.4375\n",
            "Epoch 17/50\n",
            "2/2 [==============================] - 2s 1s/step - loss: 0.9644 - accuracy: 0.6562 - val_loss: 1.5760 - val_accuracy: 0.5000\n",
            "Epoch 18/50\n",
            "2/2 [==============================] - 3s 2s/step - loss: 0.9493 - accuracy: 0.5938 - val_loss: 1.5246 - val_accuracy: 0.4375\n"
          ]
        },
        {
          "output_type": "execute_result",
          "data": {
            "text/plain": [
              "<keras.src.callbacks.History at 0x7dc3e33076a0>"
            ]
          },
          "metadata": {},
          "execution_count": 8
        }
      ],
      "source": [
        "# voor normale getuned params\n",
        "print(f\"\"\"\n",
        "The hyperparameter search is complete.\n",
        "The optimal number of LSTM and Dense layers and their units can be reviewed in the best hyperparameters.\n",
        "\"\"\")\n",
        "\n",
        "## Early stopping om te kijken of het effect heeft om het aantal epochs te verhogen\n",
        "# Early stopping callback\n",
        "early_stopping_callback = EarlyStopping(monitor='val_loss', patience=5, restore_best_weights=True)\n",
        "\n",
        "# Increase the number of epochs as needed\n",
        "epochs = 50\n",
        "# Build the model with the optimal hyperparameters and train it\n",
        "\n",
        "model = tuner.hypermodel.build(best_hps) ### HIER SWITCHEN NAAR BESTE HYPER PARAMETERS OF INLADEN VIA JSON loaded_hyperparameters\n",
        "\n",
        "#model.fit(X_train, y_train, epochs=10, batch_size=64, validation_data=(X_test, y_test)) # epochs aanpassen voor snelheid\n",
        "# deze was redelijk:\n",
        "#model.fit(X_train, y_train_encoded, epochs=10, batch_size=32, validation_data=(X_test, y_test_encoded)) # kleinere batch size kan miss helpen? sotnd eerst op 64\n",
        "\n",
        "model.fit(X_train, y_train_encoded, epochs=epochs, batch_size=32, validation_data=(X_test1, y_test1_encoded), callbacks=[early_stopping_callback])\n",
        "\n",
        "# beste model als callback opslaan met .h5 of best params opslaan als file"
      ],
      "id": "sFFmRBjk-Kqe"
    },
    {
      "cell_type": "markdown",
      "metadata": {
        "id": "-yNxswr8-s6H"
      },
      "source": [
        "### Save / Store hyper params"
      ],
      "id": "-yNxswr8-s6H"
    },
    {
      "cell_type": "code",
      "execution_count": 9,
      "metadata": {
        "colab": {
          "base_uri": "https://localhost:8080/"
        },
        "id": "iNFzrYiw9Uy_",
        "outputId": "ce58b85a-6635-41cf-9fa1-86b8331ea757"
      },
      "outputs": [
        {
          "output_type": "stream",
          "name": "stdout",
          "text": [
            "Best Hyperparameters:\n",
            "num_lstm_layers: 4\n",
            "units_0: 128\n",
            "lstm_dropout_: 0.2\n",
            "lstm_kernel_regularizer_: 1e-05\n",
            "num_dense_layers: 4\n",
            "dense_units_0: 64\n",
            "dense_kernel_regularizer_: 0.0001\n",
            "learning_rate: 0.001\n",
            "units_1: 64\n",
            "units_2: 32\n",
            "dense_units_1: 32\n",
            "dense_units_2: 16\n",
            "units_3: 128\n",
            "dense_units_3: 64\n"
          ]
        }
      ],
      "source": [
        "## To see the best hyper params + valuesL:\n",
        "print(\"Best Hyperparameters:\")\n",
        "for hyperparam in best_hps.values:\n",
        "    print(f\"{hyperparam}: {best_hps.get(hyperparam)}\")\n"
      ],
      "id": "iNFzrYiw9Uy_"
    },
    {
      "cell_type": "code",
      "execution_count": 11,
      "metadata": {
        "id": "JqI_QyzC9Jr3",
        "colab": {
          "base_uri": "https://localhost:8080/"
        },
        "outputId": "f0350cbc-4744-406a-be2c-245df5ae174f"
      },
      "outputs": [
        {
          "output_type": "execute_result",
          "data": {
            "text/plain": [
              "dict"
            ]
          },
          "metadata": {},
          "execution_count": 11
        }
      ],
      "source": [
        "# ALLEEN OPSLAAN ALS NODUIG\n",
        "# save hyper params in file (als hoge accuracy)\n",
        "import json\n",
        "type(best_hps.values)\n"
      ],
      "id": "JqI_QyzC9Jr3"
    },
    {
      "cell_type": "code",
      "source": [
        "# Write the dictionary to a JSON file\n",
        "with open('best_hyperparameters.json', 'w') as file:\n",
        "    json.dump(best_hps.values, file)"
      ],
      "metadata": {
        "id": "efh2A94Phkmu"
      },
      "id": "efh2A94Phkmu",
      "execution_count": 12,
      "outputs": []
    },
    {
      "cell_type": "code",
      "execution_count": 13,
      "metadata": {
        "id": "TF7OqjK591kd"
      },
      "outputs": [],
      "source": [
        "# Load best hyper params:\n",
        "# Read the hyperparameters from the JSON file\n",
        "with open('./best_hyperparameters.json', 'r') as file:\n",
        "    loaded_hyperparameters = json.load(file)\n",
        "\n",
        "# Now `loaded_hyperparameters` contains the hyperparameters\n"
      ],
      "id": "TF7OqjK591kd"
    },
    {
      "cell_type": "code",
      "source": [
        "loaded_hyperparameters"
      ],
      "metadata": {
        "colab": {
          "base_uri": "https://localhost:8080/"
        },
        "id": "SaGLnJB9ilu_",
        "outputId": "f01beb4a-7c63-417b-de0d-d4c18e883657"
      },
      "id": "SaGLnJB9ilu_",
      "execution_count": 14,
      "outputs": [
        {
          "output_type": "execute_result",
          "data": {
            "text/plain": [
              "{'num_lstm_layers': 4,\n",
              " 'units_0': 128,\n",
              " 'lstm_dropout_': 0.2,\n",
              " 'lstm_kernel_regularizer_': 1e-05,\n",
              " 'num_dense_layers': 4,\n",
              " 'dense_units_0': 64,\n",
              " 'dense_kernel_regularizer_': 0.0001,\n",
              " 'learning_rate': 0.001,\n",
              " 'units_1': 64,\n",
              " 'units_2': 32,\n",
              " 'dense_units_1': 32,\n",
              " 'dense_units_2': 16,\n",
              " 'units_3': 128,\n",
              " 'dense_units_3': 64}"
            ]
          },
          "metadata": {},
          "execution_count": 14
        }
      ]
    },
    {
      "cell_type": "code",
      "execution_count": 15,
      "metadata": {
        "colab": {
          "base_uri": "https://localhost:8080/"
        },
        "id": "dWmv6lTr_uPp",
        "outputId": "622c03ce-dfac-4804-d52f-e28f3ddc9638"
      },
      "outputs": [
        {
          "output_type": "stream",
          "name": "stdout",
          "text": [
            "Epoch 1/50\n",
            "8/8 [==============================] - 18s 1s/step - loss: 1.3899 - accuracy: 0.2188 - val_loss: 1.3814 - val_accuracy: 0.4375\n",
            "Epoch 2/50\n",
            "8/8 [==============================] - 9s 1s/step - loss: 1.3807 - accuracy: 0.3281 - val_loss: 1.3786 - val_accuracy: 0.3750\n",
            "Epoch 3/50\n",
            "8/8 [==============================] - 7s 932ms/step - loss: 1.3751 - accuracy: 0.3594 - val_loss: 1.3716 - val_accuracy: 0.3125\n",
            "Epoch 4/50\n",
            "8/8 [==============================] - 8s 1s/step - loss: 1.3426 - accuracy: 0.3906 - val_loss: 1.3748 - val_accuracy: 0.3125\n",
            "Epoch 5/50\n",
            "8/8 [==============================] - 8s 1s/step - loss: 1.2781 - accuracy: 0.4062 - val_loss: 1.3770 - val_accuracy: 0.2500\n",
            "Epoch 6/50\n",
            "8/8 [==============================] - 8s 1s/step - loss: 1.1785 - accuracy: 0.4062 - val_loss: 1.2600 - val_accuracy: 0.3125\n",
            "Epoch 7/50\n",
            "8/8 [==============================] - 8s 1s/step - loss: 1.3574 - accuracy: 0.4219 - val_loss: 1.3757 - val_accuracy: 0.2500\n",
            "Epoch 8/50\n",
            "8/8 [==============================] - 8s 995ms/step - loss: 1.2612 - accuracy: 0.4531 - val_loss: 1.3557 - val_accuracy: 0.3125\n",
            "Epoch 9/50\n",
            "8/8 [==============================] - 8s 1s/step - loss: 1.1915 - accuracy: 0.4844 - val_loss: 1.3334 - val_accuracy: 0.1875\n",
            "Epoch 10/50\n",
            "8/8 [==============================] - 9s 1s/step - loss: 1.1422 - accuracy: 0.3750 - val_loss: 1.3861 - val_accuracy: 0.3125\n",
            "Epoch 11/50\n",
            "8/8 [==============================] - 8s 1s/step - loss: 1.0384 - accuracy: 0.5312 - val_loss: 1.3132 - val_accuracy: 0.2500\n"
          ]
        }
      ],
      "source": [
        "# model draaien op json hyper params (opgeslagen)\n",
        "model = build_model_storedParams(loaded_hyperparameters)\n",
        "\n",
        "epochs = 50  # or any other number of epochs you want\n",
        "batch_size = 8  # or any other batch size you want\n",
        "\n",
        "# Early stopping callback\n",
        "early_stopping_callback = tf.keras.callbacks.EarlyStopping(monitor='val_loss', patience=5, restore_best_weights=True)\n",
        "\n",
        "# Fit the model\n",
        "history = model.fit(\n",
        "    X_train, y_train_encoded,\n",
        "    epochs=epochs,\n",
        "    batch_size=batch_size,\n",
        "    validation_data=(X_test1, y_test1_encoded),\n",
        "    callbacks=[early_stopping_callback]\n",
        ")\n"
      ],
      "id": "dWmv6lTr_uPp"
    },
    {
      "cell_type": "code",
      "source": [
        "X_test_off = np.concatenate((X_test2, X_test3), axis=0)\n",
        "y_test_off = np.concatenate((y_test2_encoded, y_test3_encoded), axis=0)"
      ],
      "metadata": {
        "id": "P_HZJCjsgM8J"
      },
      "id": "P_HZJCjsgM8J",
      "execution_count": 16,
      "outputs": []
    },
    {
      "cell_type": "code",
      "execution_count": 17,
      "metadata": {
        "colab": {
          "base_uri": "https://localhost:8080/",
          "height": 836
        },
        "id": "VRhJ3H7u9VHE",
        "outputId": "a9f6bc75-0b3e-44e3-b52e-5a3910cadc07"
      },
      "outputs": [
        {
          "output_type": "stream",
          "name": "stdout",
          "text": [
            "1/1 [==============================] - 6s 6s/step\n",
            "[1 1 1 1 1 1 1 3 3 1 1 1 1 1 1 3 1 1 1 1 3 1 1 3 1 2 1 3 3 1 1 2]\n"
          ]
        },
        {
          "output_type": "display_data",
          "data": {
            "text/plain": [
              "<Figure size 640x480 with 2 Axes>"
            ],
            "image/png": "[encoded data removed]"
          },
          "metadata": {}
        },
        {
          "output_type": "stream",
          "name": "stdout",
          "text": [
            "              precision    recall  f1-score   support\n",
            "\n",
            "           0       0.00      0.00      0.00         8\n",
            "           1       0.30      0.88      0.45         8\n",
            "           2       0.50      0.12      0.20         8\n",
            "           3       0.57      0.50      0.53         8\n",
            "\n",
            "    accuracy                           0.38        32\n",
            "   macro avg       0.34      0.38      0.30        32\n",
            "weighted avg       0.34      0.38      0.30        32\n",
            "\n"
          ]
        },
        {
          "output_type": "stream",
          "name": "stderr",
          "text": [
            "/usr/local/lib/python3.10/dist-packages/sklearn/metrics/_classification.py:1344: UndefinedMetricWarning: Precision and F-score are ill-defined and being set to 0.0 in labels with no predicted samples. Use `zero_division` parameter to control this behavior.\n",
            "  _warn_prf(average, modifier, msg_start, len(result))\n",
            "/usr/local/lib/python3.10/dist-packages/sklearn/metrics/_classification.py:1344: UndefinedMetricWarning: Precision and F-score are ill-defined and being set to 0.0 in labels with no predicted samples. Use `zero_division` parameter to control this behavior.\n",
            "  _warn_prf(average, modifier, msg_start, len(result))\n",
            "/usr/local/lib/python3.10/dist-packages/sklearn/metrics/_classification.py:1344: UndefinedMetricWarning: Precision and F-score are ill-defined and being set to 0.0 in labels with no predicted samples. Use `zero_division` parameter to control this behavior.\n",
            "  _warn_prf(average, modifier, msg_start, len(result))\n"
          ]
        }
      ],
      "source": [
        "from sklearn.metrics import confusion_matrix, classification_report\n",
        "import seaborn as sns\n",
        "import matplotlib.pyplot as plt\n",
        "\n",
        "# Predictions\n",
        "y_pred = model.predict(X_test_off)\n",
        "y_pred_classes = np.argmax(y_pred, axis=1)\n",
        "print(y_pred_classes)\n",
        "# Confusion Matrix\n",
        "cm = confusion_matrix(np.argmax(y_test_off, axis=1), y_pred_classes)\n",
        "sns.heatmap(cm, annot=True, fmt='d')\n",
        "plt.ylabel('Actual')\n",
        "plt.xlabel('Predicted')\n",
        "plt.title('Confusion Matrix')\n",
        "plt.show()\n",
        "\n",
        "# Classification Report for additional metrics\n",
        "print(classification_report(np.argmax(y_test_off, axis=1), y_pred_classes))\n"
      ],
      "id": "VRhJ3H7u9VHE"
    },
    {
      "cell_type": "code",
      "execution_count": 18,
      "metadata": {
        "colab": {
          "base_uri": "https://localhost:8080/"
        },
        "id": "0cccfe8b-28c5-471e-96f4-2a578484fd50",
        "outputId": "a2460aa4-1f6d-4787-89f0-bbd4912d631d"
      },
      "outputs": [
        {
          "output_type": "stream",
          "name": "stdout",
          "text": [
            "2/2 [==============================] - 3s 448ms/step - loss: 1.1086 - accuracy: 0.4688\n",
            "Training Accuracy: 46.88%\n",
            "1/1 [==============================] - 1s 891ms/step - loss: 1.3460 - accuracy: 0.3750\n",
            "Test Accuracy: 37.50%\n"
          ]
        }
      ],
      "source": [
        "# Evaluating the model on the training data\n",
        "train_loss, train_accuracy = model.evaluate(X_train, y_train_encoded)\n",
        "print(f\"Training Accuracy: {train_accuracy*100:.2f}%\")\n",
        "\n",
        "# Evaluating the model on the test data\n",
        "test_loss, test_accuracy = model.evaluate(X_test_off, y_test_off)\n",
        "print(f\"Test Accuracy: {test_accuracy*100:.2f}%\")\n"
      ],
      "id": "0cccfe8b-28c5-471e-96f4-2a578484fd50"
    },
    {
      "cell_type": "markdown",
      "metadata": {
        "id": "gyT1Qx5TAwW7"
      },
      "source": [
        "# opmerkingen INTRA\n",
        "\n",
        "* train acc is 50%\n",
        "* test acc 75%\n",
        "* hyper params gevonden mbv hyper parameter tuning\n",
        "* daarna deze waardes opgeslagen in json file\n",
        "* model gefit mbv deze params\n",
        "* epochs / batch sizes zouden nog getuned/getest kunnen worden\n",
        "\n",
        "Zelfde wordt nu gedaan voor CROSS\n",
        "\n",
        "Hierna statistische test doen op beide uitkomsten om te bepalen of er significantie is tussen de twee classificatie methoden."
      ],
      "id": "gyT1Qx5TAwW7"
    }
  ],
  "metadata": {
    "accelerator": "GPU",
    "colab": {
      "provenance": []
    },
    "kernelspec": {
      "display_name": "Python 3",
      "name": "python3"
    },
    "language_info": {
      "codemirror_mode": {
        "name": "ipython",
        "version": 3
      },
      "file_extension": ".py",
      "mimetype": "text/x-python",
      "name": "python",
      "nbconvert_exporter": "python",
      "pygments_lexer": "ipython3",
      "version": "3.10.11"
    }
  },
  "nbformat": 4,
  "nbformat_minor": 5
}